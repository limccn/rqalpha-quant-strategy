{
 "cells": [
  {
   "cell_type": "markdown",
   "metadata": {},
   "source": [
    "## How to use subversion in jupyter"
   ]
  },
  {
   "cell_type": "code",
   "execution_count": 3,
   "metadata": {},
   "outputs": [
    {
     "name": "stdout",
     "output_type": "stream",
     "text": [
      "/home/quant/RQAlpha/trunk/tools\r\n"
     ]
    }
   ],
   "source": [
    "# 1.use pwd find your current working directory\n",
    "!echo `pwd`"
   ]
  },
  {
   "cell_type": "code",
   "execution_count": 1,
   "metadata": {},
   "outputs": [],
   "source": [
    "# 2.change working directory to your working directory\n",
    "!cd /home/quant/RQAlpha/trunk/"
   ]
  },
  {
   "cell_type": "code",
   "execution_count": 2,
   "metadata": {},
   "outputs": [
    {
     "name": "stdout",
     "output_type": "stream",
     "text": [
      "正在升级 '.':\n",
      "版本 23。\n"
     ]
    }
   ],
   "source": [
    "# 3.update subversion working directory before committ\n",
    "!svn update"
   ]
  },
  {
   "cell_type": "code",
   "execution_count": 6,
   "metadata": {},
   "outputs": [
    {
     "name": "stdout",
     "output_type": "stream",
     "text": [
      "正在发送       readme.md\n",
      "传输文件数据.\n",
      "提交后的版本为 7。\n"
     ]
    }
   ],
   "source": [
    "# 4.commit your changes to svn codebase. add commit memos if is nesserary\n",
    "!svn commit -m \"svn commit menos\""
   ]
  },
  {
   "cell_type": "code",
   "execution_count": 15,
   "metadata": {},
   "outputs": [
    {
     "name": "stdout",
     "output_type": "stream",
     "text": [
      "正在升级 '.':\n",
      "版本 7。\n",
      "正在发送       notebooks/Buy and Hold.ipynb\n",
      "正在发送       notebooks/readme.md\n",
      "正在发送       python/demo.py\n",
      "正在发送       readme.md\n",
      "传输文件数据....\n",
      "提交后的版本为 8。\n"
     ]
    }
   ],
   "source": [
    "# 5.use && to concat two commands if is nesserary, since \"!\" can effect the full line, the \"!\" for 2nd command is nesserary.\n",
    "!cd /home/quant/RQAlpha/trunk/ && svn update\n",
    "!cd /home/quant/RQAlpha/trunk/ && svn commit -m \"some notes changed\""
   ]
  },
  {
   "cell_type": "code",
   "execution_count": 12,
   "metadata": {},
   "outputs": [
    {
     "name": "stdout",
     "output_type": "stream",
     "text": [
      "用法: svn <subcommand> [options] [args]\r\n",
      "Subversion 命令行客户端，版本 1.7.14。\r\n",
      "使用“svn help <subcommand>” 显示子命令的帮助信息。\r\n",
      "使用“svn --version”查看程序的版本号和版本库访问模块，或者\r\n",
      "使用“svn --version --quiet”只查看程序的版本号。\r\n",
      "\r\n",
      "大多数的子命令可接受文件或目录参数，对目录进行递归处理。\r\n",
      "如果没有指定参数，默认对当前目录(包含当前目录)递归处理。\r\n",
      "\r\n",
      "可用的子命令: \r\n",
      "   add\r\n",
      "   blame (praise, annotate, ann)\r\n",
      "   cat\r\n",
      "   changelist (cl)\r\n",
      "   checkout (co)\r\n",
      "   cleanup\r\n",
      "   commit (ci)\r\n",
      "   copy (cp)\r\n",
      "   delete (del, remove, rm)\r\n",
      "   diff (di)\r\n",
      "   export\r\n",
      "   help (?, h)\r\n",
      "   import\r\n",
      "   info\r\n",
      "   list (ls)\r\n",
      "   lock\r\n",
      "   log\r\n",
      "   merge\r\n",
      "   mergeinfo\r\n",
      "   mkdir\r\n",
      "   move (mv, rename, ren)\r\n",
      "   patch\r\n",
      "   propdel (pdel, pd)\r\n",
      "   propedit (pedit, pe)\r\n",
      "   propget (pget, pg)\r\n",
      "   proplist (plist, pl)\r\n",
      "   propset (pset, ps)\r\n",
      "   relocate\r\n",
      "   resolve\r\n",
      "   resolved\r\n",
      "   revert\r\n",
      "   status (stat, st)\r\n",
      "   switch (sw)\r\n",
      "   unlock\r\n",
      "   update (up)\r\n",
      "   upgrade\r\n",
      "\r\n",
      "Subversion 是版本控制工具。\r\n",
      "欲取得详细资料，请参阅 http://subversion.apache.org/\r\n"
     ]
    }
   ],
   "source": [
    "# 6.if your need help, try this\n",
    "!svn help"
   ]
  },
  {
   "cell_type": "code",
   "execution_count": 3,
   "metadata": {},
   "outputs": [
    {
     "name": "stdout",
     "output_type": "stream",
     "text": [
      ".ipynb_checkpoints\r\n"
     ]
    }
   ],
   "source": [
    "# 7. search all files unversioned\n",
    "!cd /home/quant/RQAlpha/trunk/\n",
    "!svn st | grep '^\\?' | tr '^\\?' ' ' | sed 's/[ ]*//' | sed 's/[ ]/\\\\ /g'\n",
    "\n",
    "# add files to version control\n",
    "#!svn st | grep '^\\?' | tr '^\\?' ' ' | sed 's/[ ]*//' | sed 's/[ ]/\\\\ /g' | xargs svn add"
   ]
  },
  {
   "cell_type": "code",
   "execution_count": null,
   "metadata": {},
   "outputs": [],
   "source": []
  }
 ],
 "metadata": {
  "kernelspec": {
   "display_name": "Python 2",
   "language": "python",
   "name": "python2"
  },
  "language_info": {
   "codemirror_mode": {
    "name": "ipython",
    "version": 2
   },
   "file_extension": ".py",
   "mimetype": "text/x-python",
   "name": "python",
   "nbconvert_exporter": "python",
   "pygments_lexer": "ipython2",
   "version": "2.7.5"
  }
 },
 "nbformat": 4,
 "nbformat_minor": 2
}
