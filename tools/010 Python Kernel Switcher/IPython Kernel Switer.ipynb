{
 "cells": [
  {
   "cell_type": "code",
   "execution_count": null,
   "metadata": {},
   "outputs": [],
   "source": [
    "# confirm version to install\n",
    "!ipython kernel install --user\n",
    "\n",
    "#update ipykernel\n",
    "!sudo pip3 install -U ipykernel\n",
    "#install python3 kernel\n",
    "!python3 -m ipykernel install --user\n",
    "\n",
    "!sudo pip2 install -U ipykernel\n",
    "#install python2 kernel\n",
    "!python2 -m ipykernel install --user"
   ]
  },
  {
   "cell_type": "code",
   "execution_count": null,
   "metadata": {},
   "outputs": [],
   "source": [
    "#install python2 kernel\n",
    "!ipython2 kernelspec install-self\n",
    "\n",
    "#install python3 kernel\n",
    "!ipython3 kernelspec install-self"
   ]
  }
 ],
 "metadata": {
  "kernelspec": {
   "display_name": "Python 2",
   "language": "python",
   "name": "python2"
  },
  "language_info": {
   "codemirror_mode": {
    "name": "ipython",
    "version": 2
   },
   "file_extension": ".py",
   "mimetype": "text/x-python",
   "name": "python",
   "nbconvert_exporter": "python",
   "pygments_lexer": "ipython2",
   "version": "2.7.5"
  }
 },
 "nbformat": 4,
 "nbformat_minor": 2
}
