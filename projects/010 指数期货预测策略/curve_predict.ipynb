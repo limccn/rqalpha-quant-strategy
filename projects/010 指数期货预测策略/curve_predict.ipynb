{
 "cells": [
  {
   "cell_type": "code",
   "execution_count": 1,
   "metadata": {},
   "outputs": [
    {
     "ename": "ImportError",
     "evalue": "No module named kshape",
     "output_type": "error",
     "traceback": [
      "\u001b[0;31m\u001b[0m",
      "\u001b[0;31mImportError\u001b[0mTraceback (most recent call last)",
      "\u001b[0;32m<ipython-input-1-281d770a92d9>\u001b[0m in \u001b[0;36m<module>\u001b[0;34m()\u001b[0m\n\u001b[1;32m      1\u001b[0m \u001b[0;32mimport\u001b[0m \u001b[0mpandas\u001b[0m \u001b[0;32mas\u001b[0m \u001b[0mpd\u001b[0m\u001b[0;34m\u001b[0m\u001b[0m\n\u001b[1;32m      2\u001b[0m \u001b[0;32mimport\u001b[0m \u001b[0mnumpy\u001b[0m \u001b[0;32mas\u001b[0m \u001b[0mnp\u001b[0m\u001b[0;34m\u001b[0m\u001b[0m\n\u001b[0;32m----> 3\u001b[0;31m \u001b[0;32mfrom\u001b[0m \u001b[0mkshape\u001b[0m \u001b[0;32mimport\u001b[0m \u001b[0mkshape\u001b[0m\u001b[0;34m,\u001b[0m \u001b[0mzscore\u001b[0m\u001b[0;34m\u001b[0m\u001b[0m\n\u001b[0m\u001b[1;32m      4\u001b[0m \u001b[0;32mfrom\u001b[0m \u001b[0mscipy\u001b[0m \u001b[0;32mimport\u001b[0m \u001b[0mndimage\u001b[0m\u001b[0;34m\u001b[0m\u001b[0m\n\u001b[1;32m      5\u001b[0m \u001b[0;32mfrom\u001b[0m \u001b[0msklearn\u001b[0m\u001b[0;34m.\u001b[0m\u001b[0mcluster\u001b[0m \u001b[0;32mimport\u001b[0m \u001b[0mKMeans\u001b[0m\u001b[0;34m\u001b[0m\u001b[0m\n",
      "\u001b[0;31mImportError\u001b[0m: No module named kshape"
     ]
    }
   ],
   "source": [
    "import pandas as pd\n",
    "import numpy as np\n",
    "from kshape import kshape, zscore\n",
    "from scipy import ndimage\n",
    "from sklearn.cluster import KMeans \n",
    "import matplotlib.pyplot\n",
    "\n",
    "def kshape_cluster(data,idx,idy,plot = True):\n",
    "    cluster_num = idx * idy\n",
    "    data = zscore(data,axis = 1)\n",
    "    cluster = kshape(data,cluster_num)\n",
    "    predict = pred(cluster,data)\n",
    "    if plot:\n",
    "        plot_kshapes(cluster,data,idx,idy)\n",
    "    return predict\n",
    "    \n",
    "\n",
    "def moving_average(data,N,axis = -1):\n",
    "    return ndimage.convolve1d(data,np.ones(N,)/N,axis)\n",
    "\n",
    "def plot_kshapes(clusters,data,idx,idy):\n",
    "    fig,ax = pyplot.subplots(idx,idy)\n",
    "    cluster_num = idx * idy\n",
    "    for j in range(cluster_num):\n",
    "        if j < cluster_num:\n",
    "            for i in clusters[j][1]:\n",
    "                ax[int(j/idy),j%idy].plot(data[i,:])\n",
    "    fig.set_figheight(30)\n",
    "    fig.set_figwidth(45)\n",
    "    pyplot.show()\n",
    "    \n",
    "def pred(clusters,data):\n",
    "    pred = np.empty(data.shape[0])\n",
    "    count = 0\n",
    "    for centroid,cluster in clusters:\n",
    "        for id in cluster:\n",
    "            pred[id] = count\n",
    "        count = count + 1\n",
    "    return pred\n",
    "\n",
    "def plot_kmeans(pred,data,idx,idy):\n",
    "    fig,ax = pyplot.subplots(idx,idy)\n",
    "    cluster_num = idx * idy\n",
    "    count = 0\n",
    "    for i in pred:\n",
    "        ax[int(i/idy),i%idy].plot(data[count,:])\n",
    "        count = count + 1\n",
    "    fig.set_figheight(30)\n",
    "    fig.set_figwidth(45)\n",
    "    pyplot.show()\n",
    "    \n",
    "def kmeans_cluster(data,idx,idy,plot = True):\n",
    "    data = zscore(data,axis=1)\n",
    "    clf = KMeans(n_clusters=idx * idy,max_iter = 30000,init='k-means++') \n",
    "    y_pred = clf.fit_predict(data)\n",
    "    if plot:\n",
    "        plot_kmeans(y_pred,data,idx,idy)\n",
    "    return y_pred\n",
    "    \n",
    "\n",
    "def calc_y(i):\n",
    "    if i > 0:\n",
    "        return 1\n",
    "    return 0\n",
    "\n",
    "def profit(predicted,y):\n",
    "    pred_ones = np.count_nonzero(predicted)\n",
    "    positive = 1. * np.count_nonzero(predicted * y)\n",
    "    if pred_ones == 0:\n",
    "        return 0\n",
    "    return positive / pred_ones"
   ]
  },
  {
   "cell_type": "code",
   "execution_count": 2,
   "metadata": {},
   "outputs": [
    {
     "ename": "NameError",
     "evalue": "name 'get_price' is not defined",
     "output_type": "error",
     "traceback": [
      "\u001b[0;31m\u001b[0m",
      "\u001b[0;31mNameError\u001b[0mTraceback (most recent call last)",
      "\u001b[0;32m<ipython-input-2-c0e34f3762ca>\u001b[0m in \u001b[0;36m<module>\u001b[0;34m()\u001b[0m\n\u001b[1;32m      4\u001b[0m \u001b[0mend_date\u001b[0m \u001b[0;34m=\u001b[0m \u001b[0;34m'2017-6-15'\u001b[0m\u001b[0;34m\u001b[0m\u001b[0m\n\u001b[1;32m      5\u001b[0m \u001b[0;34m\u001b[0m\u001b[0m\n\u001b[0;32m----> 6\u001b[0;31m \u001b[0mm1\u001b[0m\u001b[0;34m=\u001b[0m\u001b[0mget_price\u001b[0m\u001b[0;34m(\u001b[0m\u001b[0mcode\u001b[0m\u001b[0;34m,\u001b[0m\u001b[0mstart_date\u001b[0m\u001b[0;34m=\u001b[0m\u001b[0mstart_date\u001b[0m\u001b[0;34m,\u001b[0m\u001b[0mend_date\u001b[0m\u001b[0;34m=\u001b[0m\u001b[0mend_date\u001b[0m\u001b[0;34m,\u001b[0m\u001b[0mfrequency\u001b[0m\u001b[0;34m=\u001b[0m\u001b[0;34m'1m'\u001b[0m\u001b[0;34m)\u001b[0m\u001b[0;34m\u001b[0m\u001b[0m\n\u001b[0m\u001b[1;32m      7\u001b[0m \u001b[0md1\u001b[0m\u001b[0;34m=\u001b[0m\u001b[0mget_price\u001b[0m\u001b[0;34m(\u001b[0m\u001b[0mcode\u001b[0m\u001b[0;34m,\u001b[0m\u001b[0mstart_date\u001b[0m\u001b[0;34m=\u001b[0m\u001b[0mstart_date\u001b[0m\u001b[0;34m,\u001b[0m\u001b[0mend_date\u001b[0m\u001b[0;34m=\u001b[0m\u001b[0mend_date\u001b[0m\u001b[0;34m,\u001b[0m\u001b[0mfrequency\u001b[0m\u001b[0;34m=\u001b[0m\u001b[0;34m'1d'\u001b[0m\u001b[0;34m)\u001b[0m\u001b[0;34m.\u001b[0m\u001b[0mas_matrix\u001b[0m\u001b[0;34m(\u001b[0m\u001b[0;34m)\u001b[0m\u001b[0;34m\u001b[0m\u001b[0m\n\u001b[1;32m      8\u001b[0m \u001b[0;34m\u001b[0m\u001b[0m\n",
      "\u001b[0;31mNameError\u001b[0m: name 'get_price' is not defined"
     ]
    }
   ],
   "source": [
    "code = '沪深300'\n",
    "# code = '000521.XSHE'\n",
    "start_date = '2012-01-02'\n",
    "end_date = '2017-6-15'\n",
    "\n",
    "m1=get_price(code,start_date=start_date,end_date=end_date,frequency='1m')\n",
    "d1=get_price(code,start_date=start_date,end_date=end_date,frequency='1d').as_matrix()\n",
    "\n",
    "open_m1 = np.array(m1['open'])\n",
    "\n",
    "close_m1 = np.array(m1['close'])\n",
    "close_d1 = close_m1.reshape(-1,240)[:,-1]\n",
    "close_d1_yes = np.roll(close_d1,1)\n",
    "close_d1_yes[0] = open_m1[0]\n",
    "\n",
    "open_d1 = open_m1.reshape(-1,240)[:,0]\n",
    "open_d1_tom = np.roll(open_d1,-1)\n",
    "open_d1_tom[-1] = close_d1[-1]\n",
    "\n",
    "open_m1 = open_m1.reshape(-1,240)\n",
    "\n",
    "open_120 = open_m1[:,119]\n",
    "\n",
    "open_m1 = np.transpose((open_m1.transpose() / close_d1_yes) - 1)\n",
    "\n",
    "TR = np.amax(np.array([d1[:,2] - d1[:,3],abs(np.roll(d1[:,1],1) - d1[:,3]),abs(d1[:,2] - np.roll(d1[:,1],1))]),axis = 0) / close_d1_yes\n",
    "TR[0] = (d1[0,2] - d1[0,3]) / close_d1_yes[0]\n",
    "\n",
    "mask = (TR>0.03)\n",
    "\n",
    "open_m1_60 = open_m1[:,:59]\n",
    "open_m1_120 = open_m1[:,:119]\n",
    "open_m1_60_120 = open_m1[:,60:119]\n",
    "\n",
    "rate = open_d1_tom / open_120 - 1\n",
    "y = np.array(list(map(calc_y,rate)))\n",
    "\n",
    "# open_m1 = open_m1[mask]\n",
    "# open_m1_60 = open_m1_60[mask]\n",
    "# open_m1_120 = open_m1_120[mask]\n",
    "# open_m1_60_120 = open_m1_60_120[mask]\n",
    "# y = y[mask]"
   ]
  },
  {
   "cell_type": "code",
   "execution_count": 3,
   "metadata": {},
   "outputs": [
    {
     "ename": "ImportError",
     "evalue": "No module named sklearn.svm",
     "output_type": "error",
     "traceback": [
      "\u001b[0;31m\u001b[0m",
      "\u001b[0;31mImportError\u001b[0mTraceback (most recent call last)",
      "\u001b[0;32m<ipython-input-3-439bae69cabc>\u001b[0m in \u001b[0;36m<module>\u001b[0;34m()\u001b[0m\n\u001b[0;32m----> 1\u001b[0;31m \u001b[0;32mfrom\u001b[0m \u001b[0msklearn\u001b[0m\u001b[0;34m.\u001b[0m\u001b[0msvm\u001b[0m \u001b[0;32mimport\u001b[0m \u001b[0mSVC\u001b[0m\u001b[0;34m\u001b[0m\u001b[0m\n\u001b[0m\u001b[1;32m      2\u001b[0m \u001b[0;32mfrom\u001b[0m \u001b[0msklearn\u001b[0m \u001b[0;32mimport\u001b[0m \u001b[0mmetrics\u001b[0m\u001b[0;34m\u001b[0m\u001b[0m\n\u001b[1;32m      3\u001b[0m \u001b[0;32mfrom\u001b[0m \u001b[0msklearn\u001b[0m \u001b[0;32mimport\u001b[0m \u001b[0mmodel_selection\u001b[0m\u001b[0;34m\u001b[0m\u001b[0m\n\u001b[1;32m      4\u001b[0m \u001b[0;32mfrom\u001b[0m \u001b[0msklearn\u001b[0m \u001b[0;32mimport\u001b[0m \u001b[0msvm\u001b[0m\u001b[0;34m,\u001b[0m \u001b[0mgrid_search\u001b[0m\u001b[0;34m\u001b[0m\u001b[0m\n\u001b[1;32m      5\u001b[0m \u001b[0;34m\u001b[0m\u001b[0m\n",
      "\u001b[0;31mImportError\u001b[0m: No module named sklearn.svm"
     ]
    }
   ],
   "source": [
    "from sklearn.svm import SVC\n",
    "from sklearn import metrics\n",
    "from sklearn import model_selection\n",
    "from sklearn import svm, grid_search\n",
    "\n",
    "idx = 3\n",
    "idy = 3\n",
    "kmeans_pred = kmeans_cluster(open_m1,idx,idy,False)\n",
    "# kmeans_pred_60 = kmeans_cluster(open_m1_60,idx,idy,False)\n",
    "kmeans_pred_120 = kmeans_cluster(open_m1_120,idx,idy,False)\n",
    "# kmeans_pred_60_120 = kmeans_cluster(open_m1_60_120,idx,idy,False)\n",
    "\n",
    "X = np.hstack((kmeans_pred.reshape(-1,1),kmeans_pred_120.reshape(-1,1)))\n",
    "X = np.nan_to_num(X)\n",
    "\n",
    "X = X[1:,:]\n",
    "y = y[1:]\n",
    "\n",
    "train_num = int(0.7 * X.shape[0])\n",
    "test_num = X.shape[0] - train_num\n",
    "\n",
    "# Cs = [0.001, 0.01, 0.1, 1, 10]\n",
    "# gammas = [0.001, 0.01, 0.1, 1]\n",
    "# param_grid = {'C': Cs, 'gamma' : gammas}\n",
    "# grid_search = model_selection.GridSearchCV(svm.SVC(kernel='rbf'), param_grid)\n",
    "# grid_search.fit(X[:train_num,:],y[:train_num])\n",
    "# predicted = grid_search.predict(X[-test_num:,:])\n",
    "# print(grid_search.best_params_)\n",
    "\n",
    "# clf = SVC(kernel=\"rbf\", C=2.8, gamma=.0073, probability=True,class_weight = {1:2,0:1})\n",
    "clf = SVC(kernel=\"rbf\", C=1, gamma=.0073, probability=True)\n",
    "\n",
    "clf.fit(X[:train_num,:],y[:train_num])\n",
    "predicted = clf.predict(X[-test_num:,:])\n",
    "print(\"Accuracy: %0.4f\" % metrics.accuracy_score(y[-test_num:],\n",
    "                                                     predicted))"
   ]
  },
  {
   "cell_type": "code",
   "execution_count": 4,
   "metadata": {},
   "outputs": [
    {
     "ename": "NameError",
     "evalue": "name 'profit' is not defined",
     "output_type": "error",
     "traceback": [
      "\u001b[0;31m\u001b[0m",
      "\u001b[0;31mNameError\u001b[0mTraceback (most recent call last)",
      "\u001b[0;32m<ipython-input-4-8f117bfcce56>\u001b[0m in \u001b[0;36m<module>\u001b[0;34m()\u001b[0m\n\u001b[1;32m      1\u001b[0m \u001b[0;31m# plt.scatter(range(len(kmeans_pred_120[1:])),kmeans_pred_120[1:],c = y )\u001b[0m\u001b[0;34m\u001b[0m\u001b[0;34m\u001b[0m\u001b[0m\n\u001b[1;32m      2\u001b[0m \u001b[0;34m\u001b[0m\u001b[0m\n\u001b[0;32m----> 3\u001b[0;31m \u001b[0;32mprint\u001b[0m\u001b[0;34m(\u001b[0m\u001b[0mprofit\u001b[0m\u001b[0;34m(\u001b[0m\u001b[0mpredicted\u001b[0m\u001b[0;34m,\u001b[0m\u001b[0my\u001b[0m\u001b[0;34m[\u001b[0m\u001b[0;34m-\u001b[0m\u001b[0mtest_num\u001b[0m\u001b[0;34m:\u001b[0m\u001b[0;34m]\u001b[0m\u001b[0;34m)\u001b[0m\u001b[0;34m)\u001b[0m\u001b[0;34m\u001b[0m\u001b[0m\n\u001b[0m\u001b[1;32m      4\u001b[0m \u001b[0;32mprint\u001b[0m\u001b[0;34m(\u001b[0m\u001b[0mpredicted\u001b[0m\u001b[0;34m)\u001b[0m\u001b[0;34m\u001b[0m\u001b[0m\n\u001b[1;32m      5\u001b[0m \u001b[0;32mprint\u001b[0m\u001b[0;34m(\u001b[0m\u001b[0my\u001b[0m\u001b[0;34m[\u001b[0m\u001b[0;34m-\u001b[0m\u001b[0mtest_num\u001b[0m\u001b[0;34m:\u001b[0m\u001b[0;34m]\u001b[0m\u001b[0;34m)\u001b[0m\u001b[0;34m\u001b[0m\u001b[0m\n",
      "\u001b[0;31mNameError\u001b[0m: name 'profit' is not defined"
     ]
    }
   ],
   "source": [
    "# plt.scatter(range(len(kmeans_pred_120[1:])),kmeans_pred_120[1:],c = y )\n",
    "\n",
    "print(profit(predicted,y[-test_num:]))\n",
    "print(predicted)\n",
    "print(y[-test_num:])\n"
   ]
  },
  {
   "cell_type": "code",
   "execution_count": 5,
   "metadata": {},
   "outputs": [
    {
     "ename": "NameError",
     "evalue": "name 'plt' is not defined",
     "output_type": "error",
     "traceback": [
      "\u001b[0;31m\u001b[0m",
      "\u001b[0;31mNameError\u001b[0mTraceback (most recent call last)",
      "\u001b[0;32m<ipython-input-5-ab26194d651a>\u001b[0m in \u001b[0;36m<module>\u001b[0;34m()\u001b[0m\n\u001b[1;32m      1\u001b[0m \u001b[0;34m\u001b[0m\u001b[0m\n\u001b[0;32m----> 2\u001b[0;31m \u001b[0mplt\u001b[0m\u001b[0;34m.\u001b[0m\u001b[0mhist\u001b[0m\u001b[0;34m(\u001b[0m\u001b[0mTR\u001b[0m\u001b[0;34m,\u001b[0m\u001b[0;36m10\u001b[0m\u001b[0;34m,\u001b[0m\u001b[0;34m(\u001b[0m\u001b[0;36m0\u001b[0m\u001b[0;34m,\u001b[0m\u001b[0;36m0.1\u001b[0m\u001b[0;34m)\u001b[0m\u001b[0;34m)\u001b[0m\u001b[0;34m\u001b[0m\u001b[0m\n\u001b[0m",
      "\u001b[0;31mNameError\u001b[0m: name 'plt' is not defined"
     ]
    }
   ],
   "source": [
    "\n",
    "plt.hist(TR,10,(0,0.1))"
   ]
  },
  {
   "cell_type": "code",
   "execution_count": 6,
   "metadata": {},
   "outputs": [],
   "source": [
    "import tushare as ts\n",
    "\n",
    "data = ts.get_k_data('000300', index=True,start='2016-10-01', end='2016-10-31')\n"
   ]
  },
  {
   "cell_type": "code",
   "execution_count": null,
   "metadata": {},
   "outputs": [],
   "source": []
  }
 ],
 "metadata": {
  "kernelspec": {
   "display_name": "Python 2",
   "language": "python",
   "name": "python2"
  },
  "language_info": {
   "codemirror_mode": {
    "name": "ipython",
    "version": 2
   },
   "file_extension": ".py",
   "mimetype": "text/x-python",
   "name": "python",
   "nbconvert_exporter": "python",
   "pygments_lexer": "ipython2",
   "version": "2.7.5"
  }
 },
 "nbformat": 4,
 "nbformat_minor": 2
}
