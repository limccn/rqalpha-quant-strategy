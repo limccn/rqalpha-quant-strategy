{
 "cells": [
  {
   "cell_type": "code",
   "execution_count": 43,
   "metadata": {
    "collapsed": false
   },
   "outputs": [
    {
     "name": "stdout",
     "output_type": "stream",
     "text": [
      "/Users/wonderful/Desktop\n"
     ]
    }
   ],
   "source": [
    "%cd /Users/wonderful/desktop"
   ]
  },
  {
   "cell_type": "code",
   "execution_count": 44,
   "metadata": {
    "collapsed": true
   },
   "outputs": [],
   "source": [
    "import pprint\n",
    "import numpy as np\n",
    "import pandas as pd\n",
    "from dateutil.parser import parse"
   ]
  },
  {
   "cell_type": "code",
   "execution_count": 51,
   "metadata": {
    "collapsed": false
   },
   "outputs": [],
   "source": [
    "data_read = pd.read_csv('data', index_col=0)"
   ]
  },
  {
   "cell_type": "code",
   "execution_count": 53,
   "metadata": {
    "collapsed": false
   },
   "outputs": [],
   "source": [
    "data = data_read.iloc[:5, :]\n",
    "test = pd.DataFrame(index=data.index.astype(str), columns=['comment', 'view', 'like', 'url', 'title', 'clone_time',\n",
    "       'modified_time', 'published_time', 'share1', 'share2'])\n",
    "test['clone_time'] = data['clone_time'].astype(np.float64).values\n",
    "test['view'] = data['liu_lan'].astype(np.float64).values\n",
    "#test['modified_time'] = data['modified_time'].values\n",
    "#test['published_time'] = data['published_time'].values\n",
    "test['modified_time'] = data['modified_time'].apply(parse).values\n",
    "test['published_time'] = data['published_time'].apply(parse).values\n",
    "test['share1'] = data['share1'].astype(np.float64).values\n",
    "test['share2'] = data['share2'].astype(np.float64).values\n",
    "test['comment'] = data['tie_zi'].astype(np.float64).values\n",
    "test['title'] = data['title'].values\n",
    "test['url'] = data['url'].astype(str).values\n",
    "test['like'] = data['zan'].astype(np.float64).values"
   ]
  },
  {
   "cell_type": "code",
   "execution_count": 54,
   "metadata": {
    "collapsed": false
   },
   "outputs": [],
   "source": [
    "test = test.to_dict()"
   ]
  },
  {
   "cell_type": "code",
   "execution_count": 55,
   "metadata": {
    "collapsed": false
   },
   "outputs": [
    {
     "name": "stdout",
     "output_type": "stream",
     "text": [
      "{'clone_time': {'0': 2.0, '1': 0.0, '2': 0.0, '3': 0.0, '4': 0.0},\n",
      " 'comment': {'0': 70.0, '1': 498.0, '2': 2.0, '3': 10.0, '4': 13.0},\n",
      " 'like': {'0': 32.0, '1': 21.0, '2': 0.0, '3': 4.0, '4': 0.0},\n",
      " 'modified_time': {'0': Timestamp('2017-04-11 07:53:36.964000'),\n",
      "                   '1': Timestamp('2017-08-24 02:21:47.706000'),\n",
      "                   '2': Timestamp('2017-08-25 01:38:37.142000'),\n",
      "                   '3': Timestamp('2017-08-09 14:14:19.954000'),\n",
      "                   '4': Timestamp('2017-08-03 09:26:50.424000')},\n",
      " 'published_time': {'0': Timestamp('2016-03-28 10:00:58.623000'),\n",
      "                    '1': Timestamp('2016-02-03 11:28:24.413000'),\n",
      "                    '2': Timestamp('2017-08-21 06:43:26.248000'),\n",
      "                    '3': Timestamp('2017-07-28 07:35:53.543000'),\n",
      "                    '4': Timestamp('2017-03-28 03:21:59.328000')},\n",
      " 'share1': {'0': 1.0, '1': 0.0, '2': 0.0, '3': 0.0, '4': 0.0},\n",
      " 'share2': {'0': 1.0, '1': 0.0, '2': 0.0, '3': 0.0, '4': 0.0},\n",
      " 'title': {'0': '新功能发布汇总贴 - 20170706更新',\n",
      "           '1': '小伙伴们，你最希望Ricequant加入什么样的功能呢？',\n",
      "           '2': '“无码”量化——向导式策略上线！',\n",
      "           '3': '【实盘】神秘活动：米筐精美T恤、话费等你来拿！',\n",
      "           '4': '社区常见问题汇总【0725更新】'},\n",
      " 'url': {'0': '765', '1': '544', '2': '3920', '3': '3760', '4': '2962'},\n",
      " 'view': {'0': 53813.0, '1': 145160.0, '2': 173.0, '3': 1954.0, '4': 2159.0}}\n"
     ]
    }
   ],
   "source": [
    "pprint.pprint(test)"
   ]
  },
  {
   "cell_type": "code",
   "execution_count": 56,
   "metadata": {
    "collapsed": true
   },
   "outputs": [],
   "source": [
    "from pymongo import MongoClient"
   ]
  },
  {
   "cell_type": "code",
   "execution_count": 57,
   "metadata": {
    "collapsed": true
   },
   "outputs": [],
   "source": [
    "client = MongoClient()"
   ]
  },
  {
   "cell_type": "code",
   "execution_count": 58,
   "metadata": {
    "collapsed": true
   },
   "outputs": [],
   "source": [
    "db = client.RQ_test"
   ]
  },
  {
   "cell_type": "code",
   "execution_count": 59,
   "metadata": {
    "collapsed": true
   },
   "outputs": [],
   "source": [
    "collection = db.trial_collection"
   ]
  },
  {
   "cell_type": "code",
   "execution_count": 60,
   "metadata": {
    "collapsed": true
   },
   "outputs": [],
   "source": [
    "datas = db.datas"
   ]
  },
  {
   "cell_type": "code",
   "execution_count": 61,
   "metadata": {
    "collapsed": false
   },
   "outputs": [],
   "source": [
    "result = datas.insert_one(test).inserted_id"
   ]
  },
  {
   "cell_type": "code",
   "execution_count": null,
   "metadata": {
    "collapsed": true
   },
   "outputs": [],
   "source": []
  }
 ],
 "metadata": {
  "kernelspec": {
   "display_name": "Python 3",
   "language": "python",
   "name": "python3"
  },
  "language_info": {
   "codemirror_mode": {
    "name": "ipython",
    "version": 3
   },
   "file_extension": ".py",
   "mimetype": "text/x-python",
   "name": "python",
   "nbconvert_exporter": "python",
   "pygments_lexer": "ipython3",
   "version": "3.6.0"
  }
 },
 "nbformat": 4,
 "nbformat_minor": 2
}
