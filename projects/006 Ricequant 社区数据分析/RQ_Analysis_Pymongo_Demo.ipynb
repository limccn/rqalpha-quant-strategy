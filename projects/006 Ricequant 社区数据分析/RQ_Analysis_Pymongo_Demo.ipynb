{
 "cells": [
  {
   "cell_type": "code",
   "execution_count": 118,
   "metadata": {
    "collapsed": false
   },
   "outputs": [
    {
     "name": "stdout",
     "output_type": "stream",
     "text": [
      "/Users/wonderful/Desktop\n"
     ]
    }
   ],
   "source": [
    "%cd /Users/wonderful/desktop"
   ]
  },
  {
   "cell_type": "code",
   "execution_count": 168,
   "metadata": {
    "collapsed": true
   },
   "outputs": [],
   "source": [
    "import pprint\n",
    "import numpy as np\n",
    "import pandas as pd\n",
    "from dateutil.parser import parse"
   ]
  },
  {
   "cell_type": "code",
   "execution_count": 169,
   "metadata": {
    "collapsed": false
   },
   "outputs": [],
   "source": [
    "data_read = pd.read_csv('data', index_col=0)"
   ]
  },
  {
   "cell_type": "code",
   "execution_count": 170,
   "metadata": {
    "collapsed": false
   },
   "outputs": [],
   "source": [
    "data = data_read.iloc[:, :]\n",
    "test = pd.DataFrame(index=data.index.astype(str), columns=['comment', 'view', 'like', 'url', 'title', 'clone_time',\n",
    "       'modified_time', 'published_time', 'share1', 'share2'])\n",
    "test['clone_time'] = data['clone_time'].astype(np.float64).values\n",
    "test['view'] = data['liu_lan'].astype(np.float64).values\n",
    "#test['modified_time'] = data['modified_time'].values\n",
    "#test['published_time'] = data['published_time'].values\n",
    "test['modified_time'] = data['modified_time'].apply(parse).values\n",
    "test['published_time'] = data['published_time'].apply(parse).values\n",
    "test['share1'] = data['share1'].astype(np.float64).values\n",
    "test['share2'] = data['share2'].astype(np.float64).values\n",
    "test['comment'] = data['tie_zi'].astype(np.float64).values\n",
    "test['title'] = data['title'].values\n",
    "test['url'] = data['url'].astype(str).values\n",
    "test['like'] = data['zan'].astype(np.float64).values"
   ]
  },
  {
   "cell_type": "code",
   "execution_count": 171,
   "metadata": {
    "collapsed": false
   },
   "outputs": [
    {
     "name": "stdout",
     "output_type": "stream",
     "text": [
      "{'clone_time': 2.0,\n",
      " 'comment': 70.0,\n",
      " 'like': 32.0,\n",
      " 'modified_time': Timestamp('2017-04-11 07:53:36.964000'),\n",
      " 'published_time': Timestamp('2016-03-28 10:00:58.623000'),\n",
      " 'share1': 1.0,\n",
      " 'share2': 1.0,\n",
      " 'title': '新功能发布汇总贴 - 20170706更新',\n",
      " 'url': '765',\n",
      " 'view': 53813.0}\n"
     ]
    }
   ],
   "source": [
    "pprint.pprint(test.iloc[0].to_dict())"
   ]
  },
  {
   "cell_type": "code",
   "execution_count": 172,
   "metadata": {
    "collapsed": true
   },
   "outputs": [],
   "source": [
    "from pymongo import MongoClient"
   ]
  },
  {
   "cell_type": "code",
   "execution_count": 124,
   "metadata": {
    "collapsed": true
   },
   "outputs": [],
   "source": [
    "client = MongoClient()"
   ]
  },
  {
   "cell_type": "code",
   "execution_count": 125,
   "metadata": {
    "collapsed": true
   },
   "outputs": [],
   "source": [
    "db = client.RQ_test"
   ]
  },
  {
   "cell_type": "code",
   "execution_count": 126,
   "metadata": {
    "collapsed": true
   },
   "outputs": [],
   "source": [
    "collection = db.trial_collection"
   ]
  },
  {
   "cell_type": "code",
   "execution_count": 127,
   "metadata": {
    "collapsed": true
   },
   "outputs": [],
   "source": [
    "datas = db.datas"
   ]
  },
  {
   "cell_type": "code",
   "execution_count": 128,
   "metadata": {
    "collapsed": false
   },
   "outputs": [],
   "source": [
    "for i in range(5):\n",
    "    a = test.iloc[i].to_dict()\n",
    "    result = datas.insert_one(a).inserted_id"
   ]
  },
  {
   "cell_type": "code",
   "execution_count": 129,
   "metadata": {
    "collapsed": false
   },
   "outputs": [
    {
     "data": {
      "text/plain": [
       "ObjectId('59a91a95498ab1104c6e2221')"
      ]
     },
     "execution_count": 129,
     "metadata": {},
     "output_type": "execute_result"
    }
   ],
   "source": [
    "result"
   ]
  },
  {
   "cell_type": "code",
   "execution_count": 130,
   "metadata": {
    "collapsed": false
   },
   "outputs": [
    {
     "name": "stdout",
     "output_type": "stream",
     "text": [
      "{'_id': ObjectId('59a91a95498ab1104c6e221d'),\n",
      " 'clone_time': 2.0,\n",
      " 'comment': 70.0,\n",
      " 'like': 32.0,\n",
      " 'modified_time': datetime.datetime(2017, 4, 11, 7, 53, 36, 964000),\n",
      " 'published_time': datetime.datetime(2016, 3, 28, 10, 0, 58, 623000),\n",
      " 'share1': 1.0,\n",
      " 'share2': 1.0,\n",
      " 'title': '新功能发布汇总贴 - 20170706更新',\n",
      " 'url': '765',\n",
      " 'view': 53813.0}\n"
     ]
    }
   ],
   "source": [
    "pprint.pprint(datas.find_one())"
   ]
  },
  {
   "cell_type": "code",
   "execution_count": 132,
   "metadata": {
    "collapsed": false
   },
   "outputs": [
    {
     "name": "stdout",
     "output_type": "stream",
     "text": [
      "{'_id': ObjectId('59a91a95498ab1104c6e221e'),\n",
      " 'clone_time': 0.0,\n",
      " 'comment': 498.0,\n",
      " 'like': 21.0,\n",
      " 'modified_time': datetime.datetime(2017, 8, 24, 2, 21, 47, 706000),\n",
      " 'published_time': datetime.datetime(2016, 2, 3, 11, 28, 24, 413000),\n",
      " 'share1': 0.0,\n",
      " 'share2': 0.0,\n",
      " 'title': '小伙伴们，你最希望Ricequant加入什么样的功能呢？',\n",
      " 'url': '544',\n",
      " 'view': 145160.0}\n"
     ]
    }
   ],
   "source": [
    "pprint.pprint(datas.find_one({'clone_time': 0.0}))"
   ]
  },
  {
   "cell_type": "code",
   "execution_count": 139,
   "metadata": {
    "collapsed": false
   },
   "outputs": [
    {
     "name": "stdout",
     "output_type": "stream",
     "text": [
      "{'_id': ObjectId('59a91a95498ab1104c6e2220'),\n",
      " 'clone_time': 0.0,\n",
      " 'comment': 10.0,\n",
      " 'like': 4.0,\n",
      " 'modified_time': datetime.datetime(2017, 8, 9, 14, 14, 19, 954000),\n",
      " 'published_time': datetime.datetime(2017, 7, 28, 7, 35, 53, 543000),\n",
      " 'share1': 0.0,\n",
      " 'share2': 0.0,\n",
      " 'title': '【实盘】神秘活动：米筐精美T恤、话费等你来拿！',\n",
      " 'url': '3760',\n",
      " 'view': 1954.0}\n"
     ]
    }
   ],
   "source": [
    "pprint.pprint(datas.find_one({'comment': 10}))"
   ]
  },
  {
   "cell_type": "code",
   "execution_count": 142,
   "metadata": {
    "collapsed": false
   },
   "outputs": [
    {
     "name": "stdout",
     "output_type": "stream",
     "text": [
      "{'_id': ObjectId('59a91a95498ab1104c6e2221'),\n",
      " 'clone_time': 0.0,\n",
      " 'comment': 13.0,\n",
      " 'like': 0.0,\n",
      " 'modified_time': datetime.datetime(2017, 8, 3, 9, 26, 50, 424000),\n",
      " 'published_time': datetime.datetime(2017, 3, 28, 3, 21, 59, 328000),\n",
      " 'share1': 0.0,\n",
      " 'share2': 0.0,\n",
      " 'title': '社区常见问题汇总【0725更新】',\n",
      " 'url': '2962',\n",
      " 'view': 2159.0}\n"
     ]
    }
   ],
   "source": [
    "pprint.pprint(datas.find_one({\"_id\": result}))"
   ]
  },
  {
   "cell_type": "code",
   "execution_count": 143,
   "metadata": {
    "collapsed": false
   },
   "outputs": [
    {
     "data": {
      "text/plain": [
       "bson.objectid.ObjectId"
      ]
     },
     "execution_count": 143,
     "metadata": {},
     "output_type": "execute_result"
    }
   ],
   "source": [
    "type(result)"
   ]
  },
  {
   "cell_type": "code",
   "execution_count": 166,
   "metadata": {
    "collapsed": false
   },
   "outputs": [],
   "source": [
    "from bson.objectid import ObjectId\n",
    "\n",
    "# The web framework gets post_id from the URL and passes it as a string\n",
    "def get(post_id):\n",
    "    # Convert from string to ObjectId:\n",
    "    document = db.datas.find_one({'_id': ObjectId(post_id)})\n",
    "    pprint.pprint(document)"
   ]
  },
  {
   "cell_type": "code",
   "execution_count": 167,
   "metadata": {
    "collapsed": false
   },
   "outputs": [
    {
     "name": "stdout",
     "output_type": "stream",
     "text": [
      "{'_id': ObjectId('59a91a95498ab1104c6e2221'),\n",
      " 'clone_time': 0.0,\n",
      " 'comment': 13.0,\n",
      " 'like': 0.0,\n",
      " 'modified_time': datetime.datetime(2017, 8, 3, 9, 26, 50, 424000),\n",
      " 'published_time': datetime.datetime(2017, 3, 28, 3, 21, 59, 328000),\n",
      " 'share1': 0.0,\n",
      " 'share2': 0.0,\n",
      " 'title': '社区常见问题汇总【0725更新】',\n",
      " 'url': '2962',\n",
      " 'view': 2159.0}\n"
     ]
    }
   ],
   "source": [
    "get('59a91a95498ab1104c6e2221')"
   ]
  },
  {
   "cell_type": "code",
   "execution_count": 173,
   "metadata": {
    "collapsed": false
   },
   "outputs": [
    {
     "data": {
      "text/plain": [
       "ObjectId('59a91e52498ab1104c6e2222')"
      ]
     },
     "execution_count": 173,
     "metadata": {},
     "output_type": "execute_result"
    }
   ],
   "source": [
    "datas.insert_one(test.iloc[6].to_dict()).inserted_id"
   ]
  },
  {
   "cell_type": "code",
   "execution_count": 174,
   "metadata": {
    "collapsed": false
   },
   "outputs": [
    {
     "name": "stdout",
     "output_type": "stream",
     "text": [
      "{'_id': ObjectId('59a91e52498ab1104c6e2222'),\n",
      " 'clone_time': 0.0,\n",
      " 'comment': 11.0,\n",
      " 'like': 0.0,\n",
      " 'modified_time': datetime.datetime(2017, 8, 25, 1, 49, 0, 874000),\n",
      " 'published_time': datetime.datetime(2017, 8, 23, 8, 37, 38, 560000),\n",
      " 'share1': 0.0,\n",
      " 'share2': 0.0,\n",
      " 'title': '请教买入持股后因送转股后导致不足100股部分卖不干净的问题【跟进中】',\n",
      " 'url': '3932',\n",
      " 'view': 40.0}\n"
     ]
    }
   ],
   "source": [
    "pprint.pprint(datas.find_one({'_id': ObjectId('59a91e52498ab1104c6e2222')}))"
   ]
  },
  {
   "cell_type": "code",
   "execution_count": 179,
   "metadata": {
    "collapsed": true
   },
   "outputs": [],
   "source": [
    "new = [test.iloc[7].to_dict(), \n",
    "       test.iloc[8].to_dict()]"
   ]
  },
  {
   "cell_type": "code",
   "execution_count": 211,
   "metadata": {
    "collapsed": false
   },
   "outputs": [
    {
     "data": {
      "text/plain": [
       "<pymongo.results.InsertManyResult at 0x110bcb208>"
      ]
     },
     "execution_count": 211,
     "metadata": {},
     "output_type": "execute_result"
    }
   ],
   "source": [
    "datas.insert_many(new)"
   ]
  },
  {
   "cell_type": "markdown",
   "metadata": {},
   "source": [
    "    {\n",
    "        \"_id\" : ObjectId(\"59a91f3a498ab1104c6e2225\"),\n",
    "        \"comment\" : 15.0,\n",
    "        \"view\" : 2663.0,\n",
    "        \"like\" : 2.0,\n",
    "        \"url\" : \"3254\",\n",
    "        \"title\" : \"#策略分享#【格雷厄姆系列3】年化收益139.572% 夏普比率2.5739\",\n",
    "        \"clone_time\" : 306.0,\n",
    "        \"modified_time\" : ISODate(\"2017-08-24T11:02:16.664Z\"),\n",
    "        \"published_time\" : ISODate(\"2017-04-30T15:34:08.182Z\"),\n",
    "        \"share1\" : 1.0,\n",
    "        \"share2\" : 0.0\n",
    "    }"
   ]
  },
  {
   "cell_type": "markdown",
   "metadata": {},
   "source": [
    "    {\n",
    "        \"_id\" : ObjectId(\"59a91f3a498ab1104c6e2226\"),\n",
    "        \"comment\" : 2.0,\n",
    "        \"view\" : 41.0,\n",
    "        \"like\" : 0.0,\n",
    "        \"url\" : \"3939\",\n",
    "        \"title\" : \"Q宗修行笔记金融随机分析第二式抛掷硬币空间上的概率论（中英双字）（二）\",\n",
    "        \"clone_time\" : 1.0,\n",
    "        \"modified_time\" : ISODate(\"2017-08-25T03:54:24.263Z\"),\n",
    "        \"published_time\" : ISODate(\"2017-08-24T09:36:19.346Z\"),\n",
    "        \"share1\" : 0.0,\n",
    "        \"share2\" : 1.0\n",
    "    }"
   ]
  },
  {
   "cell_type": "code",
   "execution_count": 182,
   "metadata": {
    "collapsed": false,
    "scrolled": false
   },
   "outputs": [
    {
     "name": "stdout",
     "output_type": "stream",
     "text": [
      "{'_id': ObjectId('59a91a95498ab1104c6e221d'),\n",
      " 'clone_time': 2.0,\n",
      " 'comment': 70.0,\n",
      " 'like': 32.0,\n",
      " 'modified_time': datetime.datetime(2017, 4, 11, 7, 53, 36, 964000),\n",
      " 'published_time': datetime.datetime(2016, 3, 28, 10, 0, 58, 623000),\n",
      " 'share1': 1.0,\n",
      " 'share2': 1.0,\n",
      " 'title': '新功能发布汇总贴 - 20170706更新',\n",
      " 'url': '765',\n",
      " 'view': 53813.0}\n",
      "{'_id': ObjectId('59a91a95498ab1104c6e221e'),\n",
      " 'clone_time': 0.0,\n",
      " 'comment': 498.0,\n",
      " 'like': 21.0,\n",
      " 'modified_time': datetime.datetime(2017, 8, 24, 2, 21, 47, 706000),\n",
      " 'published_time': datetime.datetime(2016, 2, 3, 11, 28, 24, 413000),\n",
      " 'share1': 0.0,\n",
      " 'share2': 0.0,\n",
      " 'title': '小伙伴们，你最希望Ricequant加入什么样的功能呢？',\n",
      " 'url': '544',\n",
      " 'view': 145160.0}\n",
      "{'_id': ObjectId('59a91a95498ab1104c6e221f'),\n",
      " 'clone_time': 0.0,\n",
      " 'comment': 2.0,\n",
      " 'like': 0.0,\n",
      " 'modified_time': datetime.datetime(2017, 8, 25, 1, 38, 37, 142000),\n",
      " 'published_time': datetime.datetime(2017, 8, 21, 6, 43, 26, 248000),\n",
      " 'share1': 0.0,\n",
      " 'share2': 0.0,\n",
      " 'title': '“无码”量化——向导式策略上线！',\n",
      " 'url': '3920',\n",
      " 'view': 173.0}\n",
      "{'_id': ObjectId('59a91a95498ab1104c6e2220'),\n",
      " 'clone_time': 0.0,\n",
      " 'comment': 10.0,\n",
      " 'like': 4.0,\n",
      " 'modified_time': datetime.datetime(2017, 8, 9, 14, 14, 19, 954000),\n",
      " 'published_time': datetime.datetime(2017, 7, 28, 7, 35, 53, 543000),\n",
      " 'share1': 0.0,\n",
      " 'share2': 0.0,\n",
      " 'title': '【实盘】神秘活动：米筐精美T恤、话费等你来拿！',\n",
      " 'url': '3760',\n",
      " 'view': 1954.0}\n",
      "{'_id': ObjectId('59a91a95498ab1104c6e2221'),\n",
      " 'clone_time': 0.0,\n",
      " 'comment': 13.0,\n",
      " 'like': 0.0,\n",
      " 'modified_time': datetime.datetime(2017, 8, 3, 9, 26, 50, 424000),\n",
      " 'published_time': datetime.datetime(2017, 3, 28, 3, 21, 59, 328000),\n",
      " 'share1': 0.0,\n",
      " 'share2': 0.0,\n",
      " 'title': '社区常见问题汇总【0725更新】',\n",
      " 'url': '2962',\n",
      " 'view': 2159.0}\n",
      "{'_id': ObjectId('59a91e52498ab1104c6e2222'),\n",
      " 'clone_time': 0.0,\n",
      " 'comment': 11.0,\n",
      " 'like': 0.0,\n",
      " 'modified_time': datetime.datetime(2017, 8, 25, 1, 49, 0, 874000),\n",
      " 'published_time': datetime.datetime(2017, 8, 23, 8, 37, 38, 560000),\n",
      " 'share1': 0.0,\n",
      " 'share2': 0.0,\n",
      " 'title': '请教买入持股后因送转股后导致不足100股部分卖不干净的问题【跟进中】',\n",
      " 'url': '3932',\n",
      " 'view': 40.0}\n",
      "{'_id': ObjectId('59a91eb0498ab1104c6e2223'),\n",
      " 'clone_time': 306.0,\n",
      " 'comment': 15.0,\n",
      " 'like': 2.0,\n",
      " 'modified_time': datetime.datetime(2017, 8, 24, 11, 2, 16, 664000),\n",
      " 'published_time': datetime.datetime(2017, 4, 30, 15, 34, 8, 182000),\n",
      " 'share1': 1.0,\n",
      " 'share2': 0.0,\n",
      " 'title': '#策略分享#【格雷厄姆系列3】年化收益139.572% 夏普比率2.5739',\n",
      " 'url': '3254',\n",
      " 'view': 2663.0}\n",
      "{'_id': ObjectId('59a91eb0498ab1104c6e2224'),\n",
      " 'clone_time': 1.0,\n",
      " 'comment': 2.0,\n",
      " 'like': 0.0,\n",
      " 'modified_time': datetime.datetime(2017, 8, 25, 3, 54, 24, 263000),\n",
      " 'published_time': datetime.datetime(2017, 8, 24, 9, 36, 19, 346000),\n",
      " 'share1': 0.0,\n",
      " 'share2': 1.0,\n",
      " 'title': 'Q宗修行笔记金融随机分析第二式抛掷硬币空间上的概率论（中英双字）（二）',\n",
      " 'url': '3939',\n",
      " 'view': 41.0}\n",
      "{'_id': ObjectId('59a91f3a498ab1104c6e2225'),\n",
      " 'clone_time': 306.0,\n",
      " 'comment': 15.0,\n",
      " 'like': 2.0,\n",
      " 'modified_time': datetime.datetime(2017, 8, 24, 11, 2, 16, 664000),\n",
      " 'published_time': datetime.datetime(2017, 4, 30, 15, 34, 8, 182000),\n",
      " 'share1': 1.0,\n",
      " 'share2': 0.0,\n",
      " 'title': '#策略分享#【格雷厄姆系列3】年化收益139.572% 夏普比率2.5739',\n",
      " 'url': '3254',\n",
      " 'view': 2663.0}\n",
      "{'_id': ObjectId('59a91f3a498ab1104c6e2226'),\n",
      " 'clone_time': 1.0,\n",
      " 'comment': 2.0,\n",
      " 'like': 0.0,\n",
      " 'modified_time': datetime.datetime(2017, 8, 25, 3, 54, 24, 263000),\n",
      " 'published_time': datetime.datetime(2017, 8, 24, 9, 36, 19, 346000),\n",
      " 'share1': 0.0,\n",
      " 'share2': 1.0,\n",
      " 'title': 'Q宗修行笔记金融随机分析第二式抛掷硬币空间上的概率论（中英双字）（二）',\n",
      " 'url': '3939',\n",
      " 'view': 41.0}\n"
     ]
    }
   ],
   "source": [
    "for item in datas.find():\n",
    "    pprint.pprint(item)"
   ]
  },
  {
   "cell_type": "code",
   "execution_count": 184,
   "metadata": {
    "collapsed": false
   },
   "outputs": [
    {
     "name": "stdout",
     "output_type": "stream",
     "text": [
      "{'_id': ObjectId('59a91a95498ab1104c6e221d'),\n",
      " 'clone_time': 2.0,\n",
      " 'comment': 70.0,\n",
      " 'like': 32.0,\n",
      " 'modified_time': datetime.datetime(2017, 4, 11, 7, 53, 36, 964000),\n",
      " 'published_time': datetime.datetime(2016, 3, 28, 10, 0, 58, 623000),\n",
      " 'share1': 1.0,\n",
      " 'share2': 1.0,\n",
      " 'title': '新功能发布汇总贴 - 20170706更新',\n",
      " 'url': '765',\n",
      " 'view': 53813.0}\n",
      "{'_id': ObjectId('59a91eb0498ab1104c6e2223'),\n",
      " 'clone_time': 306.0,\n",
      " 'comment': 15.0,\n",
      " 'like': 2.0,\n",
      " 'modified_time': datetime.datetime(2017, 8, 24, 11, 2, 16, 664000),\n",
      " 'published_time': datetime.datetime(2017, 4, 30, 15, 34, 8, 182000),\n",
      " 'share1': 1.0,\n",
      " 'share2': 0.0,\n",
      " 'title': '#策略分享#【格雷厄姆系列3】年化收益139.572% 夏普比率2.5739',\n",
      " 'url': '3254',\n",
      " 'view': 2663.0}\n",
      "{'_id': ObjectId('59a91f3a498ab1104c6e2225'),\n",
      " 'clone_time': 306.0,\n",
      " 'comment': 15.0,\n",
      " 'like': 2.0,\n",
      " 'modified_time': datetime.datetime(2017, 8, 24, 11, 2, 16, 664000),\n",
      " 'published_time': datetime.datetime(2017, 4, 30, 15, 34, 8, 182000),\n",
      " 'share1': 1.0,\n",
      " 'share2': 0.0,\n",
      " 'title': '#策略分享#【格雷厄姆系列3】年化收益139.572% 夏普比率2.5739',\n",
      " 'url': '3254',\n",
      " 'view': 2663.0}\n"
     ]
    }
   ],
   "source": [
    "for item in datas.find({'share1': 1}):\n",
    "    pprint.pprint(item)"
   ]
  },
  {
   "cell_type": "code",
   "execution_count": 185,
   "metadata": {
    "collapsed": false
   },
   "outputs": [
    {
     "data": {
      "text/plain": [
       "10"
      ]
     },
     "execution_count": 185,
     "metadata": {},
     "output_type": "execute_result"
    }
   ],
   "source": [
    "datas.count()"
   ]
  },
  {
   "cell_type": "code",
   "execution_count": 186,
   "metadata": {
    "collapsed": false
   },
   "outputs": [
    {
     "data": {
      "text/plain": [
       "3"
      ]
     },
     "execution_count": 186,
     "metadata": {},
     "output_type": "execute_result"
    }
   ],
   "source": [
    "datas.find({'share1': 1}).count()"
   ]
  },
  {
   "cell_type": "code",
   "execution_count": 188,
   "metadata": {
    "collapsed": false
   },
   "outputs": [
    {
     "name": "stdout",
     "output_type": "stream",
     "text": [
      "{'_id': ObjectId('59a91e52498ab1104c6e2222'),\n",
      " 'clone_time': 0.0,\n",
      " 'comment': 11.0,\n",
      " 'like': 0.0,\n",
      " 'modified_time': datetime.datetime(2017, 8, 25, 1, 49, 0, 874000),\n",
      " 'published_time': datetime.datetime(2017, 8, 23, 8, 37, 38, 560000),\n",
      " 'share1': 0.0,\n",
      " 'share2': 0.0,\n",
      " 'title': '请教买入持股后因送转股后导致不足100股部分卖不干净的问题【跟进中】',\n",
      " 'url': '3932',\n",
      " 'view': 40.0}\n",
      "{'_id': ObjectId('59a91a95498ab1104c6e221f'),\n",
      " 'clone_time': 0.0,\n",
      " 'comment': 2.0,\n",
      " 'like': 0.0,\n",
      " 'modified_time': datetime.datetime(2017, 8, 25, 1, 38, 37, 142000),\n",
      " 'published_time': datetime.datetime(2017, 8, 21, 6, 43, 26, 248000),\n",
      " 'share1': 0.0,\n",
      " 'share2': 0.0,\n",
      " 'title': '“无码”量化——向导式策略上线！',\n",
      " 'url': '3920',\n",
      " 'view': 173.0}\n",
      "{'_id': ObjectId('59a91a95498ab1104c6e2220'),\n",
      " 'clone_time': 0.0,\n",
      " 'comment': 10.0,\n",
      " 'like': 4.0,\n",
      " 'modified_time': datetime.datetime(2017, 8, 9, 14, 14, 19, 954000),\n",
      " 'published_time': datetime.datetime(2017, 7, 28, 7, 35, 53, 543000),\n",
      " 'share1': 0.0,\n",
      " 'share2': 0.0,\n",
      " 'title': '【实盘】神秘活动：米筐精美T恤、话费等你来拿！',\n",
      " 'url': '3760',\n",
      " 'view': 1954.0}\n",
      "{'_id': ObjectId('59a91a95498ab1104c6e2221'),\n",
      " 'clone_time': 0.0,\n",
      " 'comment': 13.0,\n",
      " 'like': 0.0,\n",
      " 'modified_time': datetime.datetime(2017, 8, 3, 9, 26, 50, 424000),\n",
      " 'published_time': datetime.datetime(2017, 3, 28, 3, 21, 59, 328000),\n",
      " 'share1': 0.0,\n",
      " 'share2': 0.0,\n",
      " 'title': '社区常见问题汇总【0725更新】',\n",
      " 'url': '2962',\n",
      " 'view': 2159.0}\n",
      "{'_id': ObjectId('59a91eb0498ab1104c6e2223'),\n",
      " 'clone_time': 306.0,\n",
      " 'comment': 15.0,\n",
      " 'like': 2.0,\n",
      " 'modified_time': datetime.datetime(2017, 8, 24, 11, 2, 16, 664000),\n",
      " 'published_time': datetime.datetime(2017, 4, 30, 15, 34, 8, 182000),\n",
      " 'share1': 1.0,\n",
      " 'share2': 0.0,\n",
      " 'title': '#策略分享#【格雷厄姆系列3】年化收益139.572% 夏普比率2.5739',\n",
      " 'url': '3254',\n",
      " 'view': 2663.0}\n",
      "{'_id': ObjectId('59a91f3a498ab1104c6e2225'),\n",
      " 'clone_time': 306.0,\n",
      " 'comment': 15.0,\n",
      " 'like': 2.0,\n",
      " 'modified_time': datetime.datetime(2017, 8, 24, 11, 2, 16, 664000),\n",
      " 'published_time': datetime.datetime(2017, 4, 30, 15, 34, 8, 182000),\n",
      " 'share1': 1.0,\n",
      " 'share2': 0.0,\n",
      " 'title': '#策略分享#【格雷厄姆系列3】年化收益139.572% 夏普比率2.5739',\n",
      " 'url': '3254',\n",
      " 'view': 2663.0}\n",
      "{'_id': ObjectId('59a91a95498ab1104c6e221e'),\n",
      " 'clone_time': 0.0,\n",
      " 'comment': 498.0,\n",
      " 'like': 21.0,\n",
      " 'modified_time': datetime.datetime(2017, 8, 24, 2, 21, 47, 706000),\n",
      " 'published_time': datetime.datetime(2016, 2, 3, 11, 28, 24, 413000),\n",
      " 'share1': 0.0,\n",
      " 'share2': 0.0,\n",
      " 'title': '小伙伴们，你最希望Ricequant加入什么样的功能呢？',\n",
      " 'url': '544',\n",
      " 'view': 145160.0}\n"
     ]
    }
   ],
   "source": [
    "d = 1\n",
    "for item in datas.find({'share2': {'$lt': d}}).sort('view'):\n",
    "    pprint.pprint(item)"
   ]
  },
  {
   "cell_type": "code",
   "execution_count": 190,
   "metadata": {
    "collapsed": false
   },
   "outputs": [
    {
     "ename": "OperationFailure",
     "evalue": "unknown operator: $t",
     "output_type": "error",
     "traceback": [
      "\u001b[0;31m---------------------------------------------------------------------------\u001b[0m",
      "\u001b[0;31mOperationFailure\u001b[0m                          Traceback (most recent call last)",
      "\u001b[0;32m<ipython-input-190-c89a3143ef5e>\u001b[0m in \u001b[0;36m<module>\u001b[0;34m()\u001b[0m\n\u001b[1;32m      1\u001b[0m \u001b[0md\u001b[0m \u001b[0;34m=\u001b[0m \u001b[0;36m1\u001b[0m\u001b[0;34m\u001b[0m\u001b[0m\n\u001b[0;32m----> 2\u001b[0;31m \u001b[0;32mfor\u001b[0m \u001b[0mitem\u001b[0m \u001b[0;32min\u001b[0m \u001b[0mdatas\u001b[0m\u001b[0;34m.\u001b[0m\u001b[0mfind\u001b[0m\u001b[0;34m(\u001b[0m\u001b[0;34m{\u001b[0m\u001b[0;34m'share2'\u001b[0m\u001b[0;34m:\u001b[0m \u001b[0;34m{\u001b[0m\u001b[0;34m'$t'\u001b[0m\u001b[0;34m:\u001b[0m \u001b[0md\u001b[0m\u001b[0;34m}\u001b[0m\u001b[0;34m}\u001b[0m\u001b[0;34m)\u001b[0m\u001b[0;34m.\u001b[0m\u001b[0msort\u001b[0m\u001b[0;34m(\u001b[0m\u001b[0;34m'view'\u001b[0m\u001b[0;34m)\u001b[0m\u001b[0;34m:\u001b[0m\u001b[0;34m\u001b[0m\u001b[0m\n\u001b[0m\u001b[1;32m      3\u001b[0m     \u001b[0mpprint\u001b[0m\u001b[0;34m.\u001b[0m\u001b[0mpprint\u001b[0m\u001b[0;34m(\u001b[0m\u001b[0mitem\u001b[0m\u001b[0;34m)\u001b[0m\u001b[0;34m\u001b[0m\u001b[0m\n",
      "\u001b[0;32m/Users/wonderful/anaconda/lib/python3.6/site-packages/pymongo/cursor.py\u001b[0m in \u001b[0;36mnext\u001b[0;34m(self)\u001b[0m\n\u001b[1;32m   1130\u001b[0m         \u001b[0;32mif\u001b[0m \u001b[0mself\u001b[0m\u001b[0;34m.\u001b[0m\u001b[0m__empty\u001b[0m\u001b[0;34m:\u001b[0m\u001b[0;34m\u001b[0m\u001b[0m\n\u001b[1;32m   1131\u001b[0m             \u001b[0;32mraise\u001b[0m \u001b[0mStopIteration\u001b[0m\u001b[0;34m\u001b[0m\u001b[0m\n\u001b[0;32m-> 1132\u001b[0;31m         \u001b[0;32mif\u001b[0m \u001b[0mlen\u001b[0m\u001b[0;34m(\u001b[0m\u001b[0mself\u001b[0m\u001b[0;34m.\u001b[0m\u001b[0m__data\u001b[0m\u001b[0;34m)\u001b[0m \u001b[0;32mor\u001b[0m \u001b[0mself\u001b[0m\u001b[0;34m.\u001b[0m\u001b[0m_refresh\u001b[0m\u001b[0;34m(\u001b[0m\u001b[0;34m)\u001b[0m\u001b[0;34m:\u001b[0m\u001b[0;34m\u001b[0m\u001b[0m\n\u001b[0m\u001b[1;32m   1133\u001b[0m             \u001b[0;32mif\u001b[0m \u001b[0mself\u001b[0m\u001b[0;34m.\u001b[0m\u001b[0m__manipulate\u001b[0m\u001b[0;34m:\u001b[0m\u001b[0;34m\u001b[0m\u001b[0m\n\u001b[1;32m   1134\u001b[0m                 \u001b[0m_db\u001b[0m \u001b[0;34m=\u001b[0m \u001b[0mself\u001b[0m\u001b[0;34m.\u001b[0m\u001b[0m__collection\u001b[0m\u001b[0;34m.\u001b[0m\u001b[0mdatabase\u001b[0m\u001b[0;34m\u001b[0m\u001b[0m\n",
      "\u001b[0;32m/Users/wonderful/anaconda/lib/python3.6/site-packages/pymongo/cursor.py\u001b[0m in \u001b[0;36m_refresh\u001b[0;34m(self)\u001b[0m\n\u001b[1;32m   1053\u001b[0m                                        \u001b[0mself\u001b[0m\u001b[0;34m.\u001b[0m\u001b[0m__batch_size\u001b[0m\u001b[0;34m,\u001b[0m\u001b[0;34m\u001b[0m\u001b[0m\n\u001b[1;32m   1054\u001b[0m                                        \u001b[0mself\u001b[0m\u001b[0;34m.\u001b[0m\u001b[0m__read_concern\u001b[0m\u001b[0;34m,\u001b[0m\u001b[0;34m\u001b[0m\u001b[0m\n\u001b[0;32m-> 1055\u001b[0;31m                                        self.__collation))\n\u001b[0m\u001b[1;32m   1056\u001b[0m             \u001b[0;32mif\u001b[0m \u001b[0;32mnot\u001b[0m \u001b[0mself\u001b[0m\u001b[0;34m.\u001b[0m\u001b[0m__id\u001b[0m\u001b[0;34m:\u001b[0m\u001b[0;34m\u001b[0m\u001b[0m\n\u001b[1;32m   1057\u001b[0m                 \u001b[0mself\u001b[0m\u001b[0;34m.\u001b[0m\u001b[0m__killed\u001b[0m \u001b[0;34m=\u001b[0m \u001b[0;32mTrue\u001b[0m\u001b[0;34m\u001b[0m\u001b[0m\n",
      "\u001b[0;32m/Users/wonderful/anaconda/lib/python3.6/site-packages/pymongo/cursor.py\u001b[0m in \u001b[0;36m__send_message\u001b[0;34m(self, operation)\u001b[0m\n\u001b[1;32m    945\u001b[0m                                            codec_options=self.__codec_options)\n\u001b[1;32m    946\u001b[0m             \u001b[0;32mif\u001b[0m \u001b[0mfrom_command\u001b[0m\u001b[0;34m:\u001b[0m\u001b[0;34m\u001b[0m\u001b[0m\n\u001b[0;32m--> 947\u001b[0;31m                 \u001b[0mhelpers\u001b[0m\u001b[0;34m.\u001b[0m\u001b[0m_check_command_response\u001b[0m\u001b[0;34m(\u001b[0m\u001b[0mdoc\u001b[0m\u001b[0;34m[\u001b[0m\u001b[0;34m'data'\u001b[0m\u001b[0;34m]\u001b[0m\u001b[0;34m[\u001b[0m\u001b[0;36m0\u001b[0m\u001b[0;34m]\u001b[0m\u001b[0;34m)\u001b[0m\u001b[0;34m\u001b[0m\u001b[0m\n\u001b[0m\u001b[1;32m    948\u001b[0m         \u001b[0;32mexcept\u001b[0m \u001b[0mOperationFailure\u001b[0m \u001b[0;32mas\u001b[0m \u001b[0mexc\u001b[0m\u001b[0;34m:\u001b[0m\u001b[0;34m\u001b[0m\u001b[0m\n\u001b[1;32m    949\u001b[0m             \u001b[0mself\u001b[0m\u001b[0;34m.\u001b[0m\u001b[0m__killed\u001b[0m \u001b[0;34m=\u001b[0m \u001b[0;32mTrue\u001b[0m\u001b[0;34m\u001b[0m\u001b[0m\n",
      "\u001b[0;32m/Users/wonderful/anaconda/lib/python3.6/site-packages/pymongo/helpers.py\u001b[0m in \u001b[0;36m_check_command_response\u001b[0;34m(response, msg, allowable_errors, parse_write_concern_error)\u001b[0m\n\u001b[1;32m    208\u001b[0m \u001b[0;34m\u001b[0m\u001b[0m\n\u001b[1;32m    209\u001b[0m             \u001b[0mmsg\u001b[0m \u001b[0;34m=\u001b[0m \u001b[0mmsg\u001b[0m \u001b[0;32mor\u001b[0m \u001b[0;34m\"%s\"\u001b[0m\u001b[0;34m\u001b[0m\u001b[0m\n\u001b[0;32m--> 210\u001b[0;31m             \u001b[0;32mraise\u001b[0m \u001b[0mOperationFailure\u001b[0m\u001b[0;34m(\u001b[0m\u001b[0mmsg\u001b[0m \u001b[0;34m%\u001b[0m \u001b[0merrmsg\u001b[0m\u001b[0;34m,\u001b[0m \u001b[0mcode\u001b[0m\u001b[0;34m,\u001b[0m \u001b[0mresponse\u001b[0m\u001b[0;34m)\u001b[0m\u001b[0;34m\u001b[0m\u001b[0m\n\u001b[0m\u001b[1;32m    211\u001b[0m \u001b[0;34m\u001b[0m\u001b[0m\n\u001b[1;32m    212\u001b[0m \u001b[0;34m\u001b[0m\u001b[0m\n",
      "\u001b[0;31mOperationFailure\u001b[0m: unknown operator: $t"
     ]
    }
   ],
   "source": [
    "d = 1\n",
    "for item in datas.find({'share2': {'$t': d}}).sort('view'):\n",
    "    pprint.pprint(item)"
   ]
  },
  {
   "cell_type": "code",
   "execution_count": 191,
   "metadata": {
    "collapsed": false
   },
   "outputs": [
    {
     "data": {
      "text/plain": [
       "Collection(Database(MongoClient(host=['localhost:27017'], document_class=dict, tz_aware=False, connect=True), 'RQ_test'), 'profiles')"
      ]
     },
     "execution_count": 191,
     "metadata": {},
     "output_type": "execute_result"
    }
   ],
   "source": [
    "db.profiles"
   ]
  },
  {
   "cell_type": "code",
   "execution_count": 192,
   "metadata": {
    "collapsed": false
   },
   "outputs": [
    {
     "data": {
      "text/plain": [
       "Database(MongoClient(host=['localhost:27017'], document_class=dict, tz_aware=False, connect=True), 'RQ_test')"
      ]
     },
     "execution_count": 192,
     "metadata": {},
     "output_type": "execute_result"
    }
   ],
   "source": [
    "db"
   ]
  },
  {
   "cell_type": "code",
   "execution_count": 195,
   "metadata": {
    "collapsed": true
   },
   "outputs": [],
   "source": [
    "import pymongo"
   ]
  },
  {
   "cell_type": "code",
   "execution_count": 202,
   "metadata": {
    "collapsed": false
   },
   "outputs": [],
   "source": [
    "result = db.profiles.create_index([('discussion_id', pymongo.ASCENDING)],\n",
    "                                 unique=True)"
   ]
  },
  {
   "cell_type": "code",
   "execution_count": 199,
   "metadata": {
    "collapsed": false
   },
   "outputs": [
    {
     "data": {
      "text/plain": [
       "'discussion_id_1'"
      ]
     },
     "execution_count": 199,
     "metadata": {},
     "output_type": "execute_result"
    }
   ],
   "source": [
    "result"
   ]
  },
  {
   "cell_type": "code",
   "execution_count": 200,
   "metadata": {
    "collapsed": false
   },
   "outputs": [
    {
     "data": {
      "text/plain": [
       "['_id_', 'discussion_id_1']"
      ]
     },
     "execution_count": 200,
     "metadata": {},
     "output_type": "execute_result"
    }
   ],
   "source": [
    "sorted(list(db.profiles.index_information()))"
   ]
  },
  {
   "cell_type": "code",
   "execution_count": 225,
   "metadata": {
    "collapsed": false
   },
   "outputs": [
    {
     "data": {
      "text/plain": [
       "Collection(Database(MongoClient(host=['localhost:27017'], document_class=dict, tz_aware=False, connect=True), 'RQ_test'), 'profiles.discussion_id')"
      ]
     },
     "execution_count": 225,
     "metadata": {},
     "output_type": "execute_result"
    }
   ],
   "source": [
    "db.profiles['discussion_id']"
   ]
  },
  {
   "cell_type": "code",
   "execution_count": 227,
   "metadata": {
    "collapsed": false
   },
   "outputs": [
    {
     "ename": "DuplicateKeyError",
     "evalue": "E11000 duplicate key error collection: RQ_test.datas index: discussion_id_1 dup key: { : null }",
     "output_type": "error",
     "traceback": [
      "\u001b[0;31m---------------------------------------------------------------------------\u001b[0m",
      "\u001b[0;31mDuplicateKeyError\u001b[0m                         Traceback (most recent call last)",
      "\u001b[0;32m<ipython-input-227-d943d16a0cef>\u001b[0m in \u001b[0;36m<module>\u001b[0;34m()\u001b[0m\n\u001b[1;32m      1\u001b[0m result = db.datas.create_index([('discussion_id', pymongo.ASCENDING)],\n\u001b[0;32m----> 2\u001b[0;31m                                  unique=True)\n\u001b[0m",
      "\u001b[0;32m/Users/wonderful/anaconda/lib/python3.6/site-packages/pymongo/collection.py\u001b[0m in \u001b[0;36mcreate_index\u001b[0;34m(self, keys, **kwargs)\u001b[0m\n\u001b[1;32m   1569\u001b[0m         \u001b[0mkeys\u001b[0m \u001b[0;34m=\u001b[0m \u001b[0mhelpers\u001b[0m\u001b[0;34m.\u001b[0m\u001b[0m_index_list\u001b[0m\u001b[0;34m(\u001b[0m\u001b[0mkeys\u001b[0m\u001b[0;34m)\u001b[0m\u001b[0;34m\u001b[0m\u001b[0m\n\u001b[1;32m   1570\u001b[0m         \u001b[0mname\u001b[0m \u001b[0;34m=\u001b[0m \u001b[0mkwargs\u001b[0m\u001b[0;34m.\u001b[0m\u001b[0msetdefault\u001b[0m\u001b[0;34m(\u001b[0m\u001b[0;34m\"name\"\u001b[0m\u001b[0;34m,\u001b[0m \u001b[0mhelpers\u001b[0m\u001b[0;34m.\u001b[0m\u001b[0m_gen_index_name\u001b[0m\u001b[0;34m(\u001b[0m\u001b[0mkeys\u001b[0m\u001b[0;34m)\u001b[0m\u001b[0;34m)\u001b[0m\u001b[0;34m\u001b[0m\u001b[0m\n\u001b[0;32m-> 1571\u001b[0;31m         \u001b[0mself\u001b[0m\u001b[0;34m.\u001b[0m\u001b[0m__create_index\u001b[0m\u001b[0;34m(\u001b[0m\u001b[0mkeys\u001b[0m\u001b[0;34m,\u001b[0m \u001b[0mkwargs\u001b[0m\u001b[0;34m)\u001b[0m\u001b[0;34m\u001b[0m\u001b[0m\n\u001b[0m\u001b[1;32m   1572\u001b[0m         \u001b[0;32mreturn\u001b[0m \u001b[0mname\u001b[0m\u001b[0;34m\u001b[0m\u001b[0m\n\u001b[1;32m   1573\u001b[0m \u001b[0;34m\u001b[0m\u001b[0m\n",
      "\u001b[0;32m/Users/wonderful/anaconda/lib/python3.6/site-packages/pymongo/collection.py\u001b[0m in \u001b[0;36m__create_index\u001b[0;34m(self, keys, index_options)\u001b[0m\n\u001b[1;32m   1470\u001b[0m                     \u001b[0mcodec_options\u001b[0m\u001b[0;34m=\u001b[0m\u001b[0m_UNICODE_REPLACE_CODEC_OPTIONS\u001b[0m\u001b[0;34m,\u001b[0m\u001b[0;34m\u001b[0m\u001b[0m\n\u001b[1;32m   1471\u001b[0m                     \u001b[0mwrite_concern\u001b[0m\u001b[0;34m=\u001b[0m\u001b[0mself\u001b[0m\u001b[0;34m.\u001b[0m\u001b[0mwrite_concern\u001b[0m\u001b[0;34m,\u001b[0m\u001b[0;34m\u001b[0m\u001b[0m\n\u001b[0;32m-> 1472\u001b[0;31m                     parse_write_concern_error=True)\n\u001b[0m\u001b[1;32m   1473\u001b[0m             \u001b[0;32mexcept\u001b[0m \u001b[0mOperationFailure\u001b[0m \u001b[0;32mas\u001b[0m \u001b[0mexc\u001b[0m\u001b[0;34m:\u001b[0m\u001b[0;34m\u001b[0m\u001b[0m\n\u001b[1;32m   1474\u001b[0m                 \u001b[0;32mif\u001b[0m \u001b[0mexc\u001b[0m\u001b[0;34m.\u001b[0m\u001b[0mcode\u001b[0m \u001b[0;32min\u001b[0m \u001b[0mcommon\u001b[0m\u001b[0;34m.\u001b[0m\u001b[0mCOMMAND_NOT_FOUND_CODES\u001b[0m\u001b[0;34m:\u001b[0m\u001b[0;34m\u001b[0m\u001b[0m\n",
      "\u001b[0;32m/Users/wonderful/anaconda/lib/python3.6/site-packages/pymongo/collection.py\u001b[0m in \u001b[0;36m_command\u001b[0;34m(self, sock_info, command, slave_ok, read_preference, codec_options, check, allowable_errors, read_concern, write_concern, parse_write_concern_error, collation)\u001b[0m\n\u001b[1;32m    230\u001b[0m             \u001b[0mwrite_concern\u001b[0m\u001b[0;34m=\u001b[0m\u001b[0mwrite_concern\u001b[0m\u001b[0;34m,\u001b[0m\u001b[0;34m\u001b[0m\u001b[0m\n\u001b[1;32m    231\u001b[0m             \u001b[0mparse_write_concern_error\u001b[0m\u001b[0;34m=\u001b[0m\u001b[0mparse_write_concern_error\u001b[0m\u001b[0;34m,\u001b[0m\u001b[0;34m\u001b[0m\u001b[0m\n\u001b[0;32m--> 232\u001b[0;31m             collation=collation)\n\u001b[0m\u001b[1;32m    233\u001b[0m \u001b[0;34m\u001b[0m\u001b[0m\n\u001b[1;32m    234\u001b[0m     \u001b[0;32mdef\u001b[0m \u001b[0m__create\u001b[0m\u001b[0;34m(\u001b[0m\u001b[0mself\u001b[0m\u001b[0;34m,\u001b[0m \u001b[0moptions\u001b[0m\u001b[0;34m,\u001b[0m \u001b[0mcollation\u001b[0m\u001b[0;34m)\u001b[0m\u001b[0;34m:\u001b[0m\u001b[0;34m\u001b[0m\u001b[0m\n",
      "\u001b[0;32m/Users/wonderful/anaconda/lib/python3.6/site-packages/pymongo/pool.py\u001b[0m in \u001b[0;36mcommand\u001b[0;34m(self, dbname, spec, slave_ok, read_preference, codec_options, check, allowable_errors, check_keys, read_concern, write_concern, parse_write_concern_error, collation)\u001b[0m\n\u001b[1;32m    475\u001b[0m                            \u001b[0mread_concern\u001b[0m\u001b[0;34m,\u001b[0m\u001b[0;34m\u001b[0m\u001b[0m\n\u001b[1;32m    476\u001b[0m                            \u001b[0mparse_write_concern_error\u001b[0m\u001b[0;34m=\u001b[0m\u001b[0mparse_write_concern_error\u001b[0m\u001b[0;34m,\u001b[0m\u001b[0;34m\u001b[0m\u001b[0m\n\u001b[0;32m--> 477\u001b[0;31m                            collation=collation)\n\u001b[0m\u001b[1;32m    478\u001b[0m         \u001b[0;32mexcept\u001b[0m \u001b[0mOperationFailure\u001b[0m\u001b[0;34m:\u001b[0m\u001b[0;34m\u001b[0m\u001b[0m\n\u001b[1;32m    479\u001b[0m             \u001b[0;32mraise\u001b[0m\u001b[0;34m\u001b[0m\u001b[0m\n",
      "\u001b[0;32m/Users/wonderful/anaconda/lib/python3.6/site-packages/pymongo/network.py\u001b[0m in \u001b[0;36mcommand\u001b[0;34m(sock, dbname, spec, slave_ok, is_mongos, read_preference, codec_options, check, allowable_errors, address, check_keys, listeners, max_bson_size, read_concern, parse_write_concern_error, collation)\u001b[0m\n\u001b[1;32m    114\u001b[0m             helpers._check_command_response(\n\u001b[1;32m    115\u001b[0m                 \u001b[0mresponse_doc\u001b[0m\u001b[0;34m,\u001b[0m \u001b[0;32mNone\u001b[0m\u001b[0;34m,\u001b[0m \u001b[0mallowable_errors\u001b[0m\u001b[0;34m,\u001b[0m\u001b[0;34m\u001b[0m\u001b[0m\n\u001b[0;32m--> 116\u001b[0;31m                 parse_write_concern_error=parse_write_concern_error)\n\u001b[0m\u001b[1;32m    117\u001b[0m     \u001b[0;32mexcept\u001b[0m \u001b[0mException\u001b[0m \u001b[0;32mas\u001b[0m \u001b[0mexc\u001b[0m\u001b[0;34m:\u001b[0m\u001b[0;34m\u001b[0m\u001b[0m\n\u001b[1;32m    118\u001b[0m         \u001b[0;32mif\u001b[0m \u001b[0mpublish\u001b[0m\u001b[0;34m:\u001b[0m\u001b[0;34m\u001b[0m\u001b[0m\n",
      "\u001b[0;32m/Users/wonderful/anaconda/lib/python3.6/site-packages/pymongo/helpers.py\u001b[0m in \u001b[0;36m_check_command_response\u001b[0;34m(response, msg, allowable_errors, parse_write_concern_error)\u001b[0m\n\u001b[1;32m    201\u001b[0m             \u001b[0;31m# findAndModify with upsert can raise duplicate key error\u001b[0m\u001b[0;34m\u001b[0m\u001b[0;34m\u001b[0m\u001b[0m\n\u001b[1;32m    202\u001b[0m             \u001b[0;32mif\u001b[0m \u001b[0mcode\u001b[0m \u001b[0;32min\u001b[0m \u001b[0;34m(\u001b[0m\u001b[0;36m11000\u001b[0m\u001b[0;34m,\u001b[0m \u001b[0;36m11001\u001b[0m\u001b[0;34m,\u001b[0m \u001b[0;36m12582\u001b[0m\u001b[0;34m)\u001b[0m\u001b[0;34m:\u001b[0m\u001b[0;34m\u001b[0m\u001b[0m\n\u001b[0;32m--> 203\u001b[0;31m                 \u001b[0;32mraise\u001b[0m \u001b[0mDuplicateKeyError\u001b[0m\u001b[0;34m(\u001b[0m\u001b[0merrmsg\u001b[0m\u001b[0;34m,\u001b[0m \u001b[0mcode\u001b[0m\u001b[0;34m,\u001b[0m \u001b[0mresponse\u001b[0m\u001b[0;34m)\u001b[0m\u001b[0;34m\u001b[0m\u001b[0m\n\u001b[0m\u001b[1;32m    204\u001b[0m             \u001b[0;32melif\u001b[0m \u001b[0mcode\u001b[0m \u001b[0;34m==\u001b[0m \u001b[0;36m50\u001b[0m\u001b[0;34m:\u001b[0m\u001b[0;34m\u001b[0m\u001b[0m\n\u001b[1;32m    205\u001b[0m                 \u001b[0;32mraise\u001b[0m \u001b[0mExecutionTimeout\u001b[0m\u001b[0;34m(\u001b[0m\u001b[0merrmsg\u001b[0m\u001b[0;34m,\u001b[0m \u001b[0mcode\u001b[0m\u001b[0;34m,\u001b[0m \u001b[0mresponse\u001b[0m\u001b[0;34m)\u001b[0m\u001b[0;34m\u001b[0m\u001b[0m\n",
      "\u001b[0;31mDuplicateKeyError\u001b[0m: E11000 duplicate key error collection: RQ_test.datas index: discussion_id_1 dup key: { : null }"
     ]
    }
   ],
   "source": [
    "result = db.datas.create_index([('discussion_id', pymongo.ASCENDING)],\n",
    "                                 unique=True)"
   ]
  },
  {
   "cell_type": "markdown",
   "metadata": {},
   "source": [
    "# [pymongo DuplicateKeyError - during upsert](https://stackoverflow.com/questions/16602542/pymongo-duplicatekeyerror-during-upsert)\n",
    "\n",
    "\n",
    "    This is an existing bug. Upserts to local database fail with  E11000 duplicate key error index: local.properties.$_id_  dup key: { : null } exception."
   ]
  },
  {
   "cell_type": "code",
   "execution_count": null,
   "metadata": {
    "collapsed": true
   },
   "outputs": [],
   "source": []
  }
 ],
 "metadata": {
  "kernelspec": {
   "display_name": "Python 3",
   "language": "python",
   "name": "python3"
  },
  "language_info": {
   "codemirror_mode": {
    "name": "ipython",
    "version": 3
   },
   "file_extension": ".py",
   "mimetype": "text/x-python",
   "name": "python",
   "nbconvert_exporter": "python",
   "pygments_lexer": "ipython3",
   "version": "3.6.0"
  }
 },
 "nbformat": 4,
 "nbformat_minor": 2
}
