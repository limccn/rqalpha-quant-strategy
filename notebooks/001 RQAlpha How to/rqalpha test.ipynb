{
 "cells": [
  {
   "cell_type": "code",
   "execution_count": 3,
   "metadata": {},
   "outputs": [],
   "source": [
    "%reload_ext rqalpha"
   ]
  },
  {
   "cell_type": "code",
   "execution_count": 4,
   "metadata": {},
   "outputs": [
    {
     "name": "stdout",
     "output_type": "stream",
     "text": [
      "Usage: ipykernel_launcher.py [OPTIONS]\n",
      "\n",
      "  Start to run a strategy\n",
      "\n",
      "Options:\n",
      "  -h, --help                      Show this message and exit.\n",
      "  -d, --data-bundle-path PATH\n",
      "  -f, --strategy-file PATH\n",
      "  -s, --start-date DATE\n",
      "  -e, --end-date DATE\n",
      "  -bm, --benchmark TEXT\n",
      "  -mm, --margin-multiplier FLOAT\n",
      "  -a, --account TEXT...           set account type with starting cash\n",
      "  --position TEXT                 set init position\n",
      "  -fq, --frequency [1d|1m|tick]\n",
      "  -rt, --run-type [b|p|r]\n",
      "  --resume\n",
      "  --source-code TEXT\n",
      "  -l, --log-level [verbose|debug|info|error|none]\n",
      "  --disable-user-system-log       disable user system log stdout\n",
      "  --disable-user-log              disable user log stdout\n",
      "  --logger TEXT...                config logger, e.g. --logger system_log\n",
      "                                  debug\n",
      "  --locale [cn|en]\n",
      "  --extra-vars TEXT               override context vars\n",
      "  --enable-profiler               add line profiler to profile your strategy\n",
      "  --dividend-reinvestment         enable dividend reinvestment\n",
      "  --config TEXT                   config file path\n",
      "  -mc, --mod-config TEXT...       mod extra config\n",
      "  --stock-t1 / --no-stock-t1      [sys_accounts] enable/disable stock T+1\n",
      "  --progress                      [sys_progress]show progress bar\n",
      "  --report PATH                   [sys_analyser] save report\n",
      "  -o, --output-file PATH          [sys_analyser] output result pickle file\n",
      "  -p, --plot / --no-plot          [sys_analyser] plot result\n",
      "  --plot-save TEXT                [sys_analyser] save plot to file\n",
      "  --no-short-stock / --short-stock\n",
      "                                  [sys_risk] enable stock shorting\n",
      "  --signal                        [sys_simulation] exclude match engine\n",
      "  -sp, --slippage FLOAT           [sys_simulation] set slippage\n",
      "  -cm, --commission-multiplier FLOAT\n",
      "                                  [sys_simulation] set commission multiplier\n",
      "  -me, --match-engine [current_bar|next_bar|last|best_own|best_counterparty]\n",
      "                                  [Deprecated][sys_simulation] set matching\n",
      "                                  type\n",
      "  -mt, --matching-type [current_bar|next_bar|last|best_own|best_counterparty]\n",
      "                                  [sys_simulation] set matching type\n"
     ]
    }
   ],
   "source": [
    "%rqalpha -h"
   ]
  },
  {
   "cell_type": "code",
   "execution_count": 5,
   "metadata": {},
   "outputs": [
    {
     "data": {
      "text/plain": [
       "<matplotlib.figure.Figure at 0x7f3778b34da0>"
      ]
     },
     "metadata": {},
     "output_type": "display_data"
    }
   ],
   "source": [
    "import matplotlib\n",
    "import matplotlib.pyplot as plot\n",
    "\n",
    "from matplotlib import rcParams\n",
    "rcParams['font.family']='sans-serif'\n",
    "rcParams['font.sans-serif']=[\n",
    "    u'Microsoft Yahei',\n",
    "    u'SimHei'\n",
    "] + rcParams['font.sans-serif']\n",
    "\n",
    "plot.figure()\n",
    "plot.title(u'新闻test')\n",
    "plot.show()"
   ]
  },
  {
   "cell_type": "code",
   "execution_count": 7,
   "metadata": {},
   "outputs": [
    {
     "ename": "UnicodeDecodeError",
     "evalue": "'ascii' codec can't decode byte 0xdc in position 2: ordinal not in range(128)",
     "output_type": "error",
     "traceback": [
      "\u001b[0;31m---------------------------------------------------------------------------\u001b[0m",
      "\u001b[0;31mUnicodeDecodeError\u001b[0m                        Traceback (most recent call last)",
      "\u001b[0;32m<ipython-input-7-8587faaf642c>\u001b[0m in \u001b[0;36m<module>\u001b[0;34m()\u001b[0m\n\u001b[1;32m      8\u001b[0m \u001b[0;34m\u001b[0m\u001b[0m\n\u001b[1;32m      9\u001b[0m \u001b[0;32mif\u001b[0m \u001b[0msys\u001b[0m\u001b[0;34m.\u001b[0m\u001b[0mversion_info\u001b[0m\u001b[0;34m.\u001b[0m\u001b[0mmajor\u001b[0m \u001b[0;34m>\u001b[0m \u001b[0;36m2\u001b[0m\u001b[0;34m:\u001b[0m\u001b[0;34m\u001b[0m\u001b[0m\n\u001b[0;32m---> 10\u001b[0;31m     \u001b[0mtmp\u001b[0m \u001b[0;34m=\u001b[0m \u001b[0mpickle\u001b[0m\u001b[0;34m.\u001b[0m\u001b[0mload\u001b[0m\u001b[0;34m(\u001b[0m\u001b[0mfileID\u001b[0m\u001b[0;34m,\u001b[0m \u001b[0mencoding\u001b[0m\u001b[0;34m=\u001b[0m\u001b[0;34m'ascii'\u001b[0m\u001b[0;34m)\u001b[0m\u001b[0;34m\u001b[0m\u001b[0m\n\u001b[0m\u001b[1;32m     11\u001b[0m \u001b[0;32melse\u001b[0m\u001b[0;34m:\u001b[0m\u001b[0;34m\u001b[0m\u001b[0m\n\u001b[1;32m     12\u001b[0m     \u001b[0mtmp\u001b[0m \u001b[0;34m=\u001b[0m \u001b[0mpickle\u001b[0m\u001b[0;34m.\u001b[0m\u001b[0mload\u001b[0m\u001b[0;34m(\u001b[0m\u001b[0mfileID\u001b[0m\u001b[0;34m)\u001b[0m\u001b[0;34m\u001b[0m\u001b[0m\n",
      "\u001b[0;31mUnicodeDecodeError\u001b[0m: 'ascii' codec can't decode byte 0xdc in position 2: ordinal not in range(128)"
     ]
    }
   ],
   "source": [
    "import pickle\n",
    "\n",
    "fileID = open(\"/home/quant/RQAlpha/trunk/examples/results/out-test.pkl\",\"rb\")\n",
    "#dictData = pickle.load(fileID, encoding='latin1')\n",
    "#dictData = pickle.load(fileID,*,fix_imports=True, encoding=\"ASCII\", errors=\"strict\")\n",
    "#dicts = pickle.load(open(\"/home/quant/RQAlpha/trunk/examples/results/out-test.pkl\",  \"rb\"),  encoding='iso-8859-1')\n",
    "\n",
    "print(sys.version_info.major)\n",
    "\n",
    "if sys.version_info.major > 2:\n",
    "    tmp = pickle.load(fileID, encoding='gb2312')\n",
    "else:\n",
    "    tmp = pickle.load(fileID)\n",
    "\n",
    "dictData = tmp\n",
    "\n",
    "#dict.keys()\n",
    "#dict['summary']\n",
    "#dict['stock_positions'][-10:]\n",
    "dictData[\"portfolio\"][-10:]"
   ]
  },
  {
   "cell_type": "code",
   "execution_count": 1,
   "metadata": {},
   "outputs": [
    {
     "name": "stdout",
     "output_type": "stream",
     "text": [
      "3\n"
     ]
    },
    {
     "ename": "UnicodeDecodeError",
     "evalue": "'gb2312' codec can't decode byte 0xdc in position 2: illegal multibyte sequence",
     "output_type": "error",
     "traceback": [
      "\u001b[0;31m---------------------------------------------------------------------------\u001b[0m",
      "\u001b[0;31mUnicodeDecodeError\u001b[0m                        Traceback (most recent call last)",
      "\u001b[0;32m<ipython-input-1-a593f26aabb9>\u001b[0m in \u001b[0;36m<module>\u001b[0;34m()\u001b[0m\n\u001b[1;32m      7\u001b[0m \u001b[0;34m\u001b[0m\u001b[0m\n\u001b[1;32m      8\u001b[0m \u001b[0;32mif\u001b[0m \u001b[0msys\u001b[0m\u001b[0;34m.\u001b[0m\u001b[0mversion_info\u001b[0m\u001b[0;34m.\u001b[0m\u001b[0mmajor\u001b[0m \u001b[0;34m>\u001b[0m \u001b[0;36m2\u001b[0m\u001b[0;34m:\u001b[0m\u001b[0;34m\u001b[0m\u001b[0m\n\u001b[0;32m----> 9\u001b[0;31m     \u001b[0mtmp\u001b[0m \u001b[0;34m=\u001b[0m \u001b[0mpickle\u001b[0m\u001b[0;34m.\u001b[0m\u001b[0mload\u001b[0m\u001b[0;34m(\u001b[0m\u001b[0mfileID\u001b[0m\u001b[0;34m,\u001b[0m \u001b[0mencoding\u001b[0m\u001b[0;34m=\u001b[0m\u001b[0;34m'gb2312'\u001b[0m\u001b[0;34m)\u001b[0m\u001b[0;34m\u001b[0m\u001b[0m\n\u001b[0m\u001b[1;32m     10\u001b[0m \u001b[0;32melse\u001b[0m\u001b[0;34m:\u001b[0m\u001b[0;34m\u001b[0m\u001b[0m\n\u001b[1;32m     11\u001b[0m     \u001b[0mtmp\u001b[0m \u001b[0;34m=\u001b[0m \u001b[0mpickle\u001b[0m\u001b[0;34m.\u001b[0m\u001b[0mload\u001b[0m\u001b[0;34m(\u001b[0m\u001b[0mfileID\u001b[0m\u001b[0;34m)\u001b[0m\u001b[0;34m\u001b[0m\u001b[0m\n",
      "\u001b[0;31mUnicodeDecodeError\u001b[0m: 'gb2312' codec can't decode byte 0xdc in position 2: illegal multibyte sequence"
     ]
    }
   ],
   "source": [
    "import pickle\n",
    "import sys\n",
    "        \n",
    "fileID = open(\"/home/quant/RQAlpha/trunk/examples/results/out-test.pkl\",\"rb\")\n",
    "\n",
    "print(sys.version_info.major)\n",
    "\n",
    "if sys.version_info.major > 2:\n",
    "    tmp = pickle.load(fileID, encoding='gb2312')\n",
    "else:\n",
    "    tmp = pickle.load(fileID)\n",
    "\n",
    "dictData = tmp\n",
    "#dict.keys()\n",
    "#dict['summary']\n",
    "#dict[\"portfolio\"]\n",
    "dictData[\"benchmark_portfolio\"][0:10]\n"
   ]
  },
  {
   "cell_type": "code",
   "execution_count": null,
   "metadata": {},
   "outputs": [],
   "source": []
  }
 ],
 "metadata": {
  "kernelspec": {
   "display_name": "Python 2",
   "language": "python",
   "name": "python2"
  },
  "language_info": {
   "codemirror_mode": {
    "name": "ipython",
    "version": 2
   },
   "file_extension": ".py",
   "mimetype": "text/x-python",
   "name": "python",
   "nbconvert_exporter": "python",
   "pygments_lexer": "ipython2",
   "version": "2.7.5"
  }
 },
 "nbformat": 4,
 "nbformat_minor": 2
}
