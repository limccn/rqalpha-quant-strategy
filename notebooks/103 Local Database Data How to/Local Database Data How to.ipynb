{
 "cells": [
  {
   "cell_type": "markdown",
   "metadata": {},
   "source": [
    "Use Pymysql to get Data from Mysql"
   ]
  },
  {
   "cell_type": "code",
   "execution_count": 8,
   "metadata": {},
   "outputs": [
    {
     "ename": "AttributeError",
     "evalue": "'module' object has no attribute '__veriosn__'",
     "output_type": "error",
     "traceback": [
      "\u001b[0;31m---------------------------------------------------------------------------\u001b[0m",
      "\u001b[0;31mAttributeError\u001b[0m                            Traceback (most recent call last)",
      "\u001b[0;32m<ipython-input-8-6cb7e491b7bf>\u001b[0m in \u001b[0;36m<module>\u001b[0;34m()\u001b[0m\n\u001b[1;32m      3\u001b[0m \u001b[0;34m\u001b[0m\u001b[0m\n\u001b[1;32m      4\u001b[0m \u001b[0;32mimport\u001b[0m \u001b[0mpymssql\u001b[0m \u001b[0;32mas\u001b[0m \u001b[0mmssql\u001b[0m\u001b[0;34m\u001b[0m\u001b[0m\n\u001b[0;32m----> 5\u001b[0;31m \u001b[0mmssql\u001b[0m\u001b[0;34m.\u001b[0m\u001b[0m__veriosn__\u001b[0m\u001b[0;34m\u001b[0m\u001b[0m\n\u001b[0m\u001b[1;32m      6\u001b[0m \u001b[0;34m\u001b[0m\u001b[0m\n\u001b[1;32m      7\u001b[0m \u001b[0;32mimport\u001b[0m \u001b[0mcx_Oracle\u001b[0m \u001b[0;32mas\u001b[0m \u001b[0moracle\u001b[0m\u001b[0;34m\u001b[0m\u001b[0m\n",
      "\u001b[0;31mAttributeError\u001b[0m: 'module' object has no attribute '__veriosn__'"
     ]
    }
   ],
   "source": [
    "import pymysql as mysql\n",
    "#mysql.__veriosn__\n",
    "\n",
    "import pymssql as mssql\n",
    "#mssql.__veriosn__\n",
    "\n",
    "import cx_Oracle as oracle\n",
    "#oracle.__veriosn__"
   ]
  },
  {
   "cell_type": "code",
   "execution_count": 1,
   "metadata": {},
   "outputs": [
    {
     "ename": "SyntaxError",
     "evalue": "Missing parentheses in call to 'print' (<ipython-input-1-33368e2c1168>, line 27)",
     "output_type": "error",
     "traceback": [
      "\u001b[0;36m  File \u001b[0;32m\"<ipython-input-1-33368e2c1168>\"\u001b[0;36m, line \u001b[0;32m27\u001b[0m\n\u001b[0;31m    print df\u001b[0m\n\u001b[0m           ^\u001b[0m\n\u001b[0;31mSyntaxError\u001b[0m\u001b[0;31m:\u001b[0m Missing parentheses in call to 'print'\n"
     ]
    }
   ],
   "source": [
    "import pymysql.cursors\n",
    "import pandas as pd\n",
    "\n",
    "# 连接MySQL数据库\n",
    "connection = pymysql.connect(host='192.168.200.123', \n",
    "                             port=3306,\n",
    "                             user='root',\n",
    "                             password='DockerRoot@123',\n",
    "                             db='ohs_redmine', \n",
    "                             charset='utf8mb4', \n",
    "                             cursorclass=pymysql.cursors.DictCursor)\n",
    "\n",
    "# 通过cursor创建游标\n",
    "cursor = connection.cursor()\n",
    "\n",
    "# 创建sql 语句，并执行\n",
    "sql = \"SELECT * FROM `enabled_modules` limit 0,10\"\n",
    "cursor.execute(sql)\n",
    "\n",
    "# 使用cursor读取\n",
    "#results = cursor.fetchall()\n",
    "#for row in results:\n",
    "#    print row\n",
    "    \n",
    "#读取为pandas dataframe\n",
    "df=pd.read_sql(sql,con=connection)  \n",
    "print(df)\n",
    "\n",
    "connection.commit()\n",
    "cursor.close()\n",
    "connection.close()\n",
    "\n",
    "# 提交SQL\n",
    "#connection.commit()"
   ]
  },
  {
   "cell_type": "code",
   "execution_count": null,
   "metadata": {},
   "outputs": [],
   "source": [
    "import pymssql.cursors\n",
    "import pandas as pd\n",
    "\n",
    "# 连接MySQL数据库\n",
    "connection = pymssql.connect(host='192.168.200.123', \n",
    "                             port=3306,\n",
    "                             user='root',\n",
    "                             password='DockerRoot@123',\n",
    "                             db='ohs_redmine',)\n",
    "\n",
    "# 通过cursor创建游标\n",
    "cursor = connection.cursor()\n",
    "\n",
    "# 创建sql 语句，并执行\n",
    "sql = \"SELECT * FROM `enabled_modules`\"\n",
    "cursor.execute(sql)\n",
    "\n",
    "# 使用cursor读取\n",
    "#results = cursor.fetchall()\n",
    "#for row in results:\n",
    "#    print row\n",
    "    \n",
    "#读取为pandas dataframe\n",
    "df=pd.read_sql(sql,con=connection)  \n",
    "print df\n",
    "\n",
    "connection.commit()\n",
    "cursor.close()\n",
    "connection.close()\n",
    "\n",
    "# 提交SQL\n",
    "#connection.commit()"
   ]
  },
  {
   "cell_type": "code",
   "execution_count": 2,
   "metadata": {},
   "outputs": [],
   "source": [
    "#!echo $LD_LIBRARY_PATH\n",
    "!export LD_LIBRARY_PATH=/usr/lib/oracle/12.2/client64/lib:$LD_LIBRARY_PATH"
   ]
  },
  {
   "cell_type": "code",
   "execution_count": 3,
   "metadata": {},
   "outputs": [
    {
     "ename": "DatabaseError",
     "evalue": "DPI-1047: 64-bit Oracle Client library cannot be loaded: \"libclntsh.so: cannot open shared object file: No such file or directory\". See https://oracle.github.io/odpi/doc/installation.html#linux for help",
     "output_type": "error",
     "traceback": [
      "\u001b[0;31m\u001b[0m",
      "\u001b[0;31mDatabaseError\u001b[0mTraceback (most recent call last)",
      "\u001b[0;32m<ipython-input-3-a4f802f92755>\u001b[0m in \u001b[0;36m<module>\u001b[0;34m()\u001b[0m\n\u001b[1;32m      7\u001b[0m                              \u001b[0muser\u001b[0m\u001b[0;34m=\u001b[0m\u001b[0;34m'HR2015'\u001b[0m\u001b[0;34m,\u001b[0m\u001b[0;34m\u001b[0m\u001b[0m\n\u001b[1;32m      8\u001b[0m                              \u001b[0mpassword\u001b[0m\u001b[0;34m=\u001b[0m\u001b[0;34m'HR2012TES'\u001b[0m\u001b[0;34m,\u001b[0m\u001b[0;34m\u001b[0m\u001b[0m\n\u001b[0;32m----> 9\u001b[0;31m                              db='dbo.HR2015')\n\u001b[0m\u001b[1;32m     10\u001b[0m \u001b[0;34m\u001b[0m\u001b[0m\n\u001b[1;32m     11\u001b[0m \u001b[0;31m# 通过cursor创建游标\u001b[0m\u001b[0;34m\u001b[0m\u001b[0;34m\u001b[0m\u001b[0m\n",
      "\u001b[0;31mDatabaseError\u001b[0m: DPI-1047: 64-bit Oracle Client library cannot be loaded: \"libclntsh.so: cannot open shared object file: No such file or directory\". See https://oracle.github.io/odpi/doc/installation.html#linux for help"
     ]
    }
   ],
   "source": [
    "import cx_Oracle\n",
    "import pandas as pd\n",
    "        \n",
    "# 连接MySQL数据库\n",
    "connection = cx_Oracle.connect(host='114.55.148.46/orclpdb', \n",
    "                             port=1521,\n",
    "                             user='HR2015',\n",
    "                             password='HR2012TES',\n",
    "                             db='dbo.HR2015')\n",
    "\n",
    "# 通过cursor创建游标\n",
    "cursor = connection.cursor()\n",
    "\n",
    "# 创建sql 语句，并执行\n",
    "sql = \"select * from customer_master limit 0,10\"\n",
    "cursor.execute(sql)\n",
    "\n",
    "# 使用cursor读取\n",
    "#results = cursor.fetchall()\n",
    "#for row in results:\n",
    "#    print row\n",
    "    \n",
    "#读取为pandas dataframe\n",
    "df=pd.read_sql(sql,con=connection)  \n",
    "print df\n",
    "\n",
    "connection.commit()\n",
    "cursor.close()\n",
    "connection.close()\n",
    "\n",
    "# 提交SQL\n",
    "#connection.commit()"
   ]
  },
  {
   "cell_type": "code",
   "execution_count": null,
   "metadata": {},
   "outputs": [],
   "source": []
  }
 ],
 "metadata": {
  "kernelspec": {
   "display_name": "Python 2",
   "language": "python",
   "name": "python2"
  },
  "language_info": {
   "codemirror_mode": {
    "name": "ipython",
    "version": 3
   },
   "file_extension": ".py",
   "mimetype": "text/x-python",
   "name": "python",
   "nbconvert_exporter": "python",
   "pygments_lexer": "ipython3",
   "version": "3.4.5"
  }
 },
 "nbformat": 4,
 "nbformat_minor": 2
}
