{
 "cells": [
  {
   "cell_type": "code",
   "execution_count": 4,
   "metadata": {
    "scrolled": true
   },
   "outputs": [
    {
     "name": "stdout",
     "output_type": "stream",
     "text": [
      "# /etc/profile\r\n",
      "\r\n",
      "# System wide environment and startup programs, for login setup\r\n",
      "# Functions and aliases go in /etc/bashrc\r\n",
      "\r\n",
      "# It's NOT a good idea to change this file unless you know what you\r\n",
      "# are doing. It's much better to create a custom.sh shell script in\r\n",
      "# /etc/profile.d/ to make custom changes to your environment, as this\r\n",
      "# will prevent the need for merging in future updates.\r\n",
      "\r\n",
      "pathmunge () {\r\n",
      "    case \":${PATH}:\" in\r\n",
      "        *:\"$1\":*)\r\n",
      "            ;;\r\n",
      "        *)\r\n",
      "            if [ \"$2\" = \"after\" ] ; then\r\n",
      "                PATH=$PATH:$1\r\n",
      "            else\r\n",
      "                PATH=$1:$PATH\r\n",
      "            fi\r\n",
      "    esac\r\n",
      "}\r\n",
      "\r\n",
      "\r\n",
      "if [ -x /usr/bin/id ]; then\r\n",
      "    if [ -z \"$EUID\" ]; then\r\n",
      "        # ksh workaround\r\n",
      "        EUID=`/usr/bin/id -u`\r\n",
      "        UID=`/usr/bin/id -ru`\r\n",
      "    fi\r\n",
      "    USER=\"`/usr/bin/id -un`\"\r\n",
      "    LOGNAME=$USER\r\n",
      "    MAIL=\"/var/spool/mail/$USER\"\r\n",
      "fi\r\n",
      "\r\n",
      "# Path manipulation\r\n",
      "if [ \"$EUID\" = \"0\" ]; then\r\n",
      "    pathmunge /usr/sbin\r\n",
      "    pathmunge /usr/local/sbin\r\n",
      "else\r\n",
      "    pathmunge /usr/local/sbin after\r\n",
      "    pathmunge /usr/sbin after\r\n",
      "fi\r\n",
      "\r\n",
      "HOSTNAME=`/usr/bin/hostname 2>/dev/null`\r\n",
      "HISTSIZE=1000\r\n",
      "if [ \"$HISTCONTROL\" = \"ignorespace\" ] ; then\r\n",
      "    export HISTCONTROL=ignoreboth\r\n",
      "else\r\n",
      "    export HISTCONTROL=ignoredups\r\n",
      "fi\r\n",
      "\r\n",
      "export PATH USER LOGNAME MAIL HOSTNAME HISTSIZE HISTCONTROL\r\n",
      "\r\n",
      "# By default, we want umask to get set. This sets it for login shell\r\n",
      "# Current threshold for system reserved uid/gids is 200\r\n",
      "# You could check uidgid reservation validity in\r\n",
      "# /usr/share/doc/setup-*/uidgid file\r\n",
      "if [ $UID -gt 199 ] && [ \"`/usr/bin/id -gn`\" = \"`/usr/bin/id -un`\" ]; then\r\n",
      "    umask 002\r\n",
      "else\r\n",
      "    umask 022\r\n",
      "fi\r\n",
      "\r\n",
      "for i in /etc/profile.d/*.sh ; do\r\n",
      "    if [ -r \"$i\" ]; then\r\n",
      "        if [ \"${-#*i}\" != \"$-\" ]; then \r\n",
      "            . \"$i\"\r\n",
      "        else\r\n",
      "            . \"$i\" >/dev/null\r\n",
      "        fi\r\n",
      "    fi\r\n",
      "done\r\n",
      "\r\n",
      "unset i\r\n",
      "unset -f pathmunge\r\n",
      "\r\n",
      "export JAVA_HOME=/usr/local/jdk\r\n",
      "export HADOOP_HOME=/usr/local/hadoop\r\n",
      "export HIVE_HOME=/usr/local/hive\r\n",
      "export PATH=$JAVA_HOME/bin:$HADOOP_HOME/bin:$HIVE_HOME/bin:/sbin:/bin:/usr/sbin:/usr/bin\r\n",
      "export CLASSPATH=.:/lib/dt.jar:/lib/tools.jar\r\n"
     ]
    }
   ],
   "source": [
    "cat /etc/profile"
   ]
  },
  {
   "cell_type": "code",
   "execution_count": 2,
   "metadata": {
    "scrolled": true
   },
   "outputs": [
    {
     "name": "stdout",
     "output_type": "stream",
     "text": [
      "/usr/bin/sh: java: 未找到命令\r\n"
     ]
    }
   ],
   "source": [
    "!java --version"
   ]
  },
  {
   "cell_type": "code",
   "execution_count": 3,
   "metadata": {},
   "outputs": [
    {
     "name": "stdout",
     "output_type": "stream",
     "text": [
      "/usr/bin/sh: hadoop: 未找到命令\r\n"
     ]
    }
   ],
   "source": [
    "!hadoop --help"
   ]
  },
  {
   "cell_type": "code",
   "execution_count": 4,
   "metadata": {},
   "outputs": [
    {
     "ename": "SyntaxError",
     "evalue": "invalid syntax (<ipython-input-4-32fcc47ce3eb>, line 2)",
     "output_type": "error",
     "traceback": [
      "\u001b[0;36m  File \u001b[0;32m\"<ipython-input-4-32fcc47ce3eb>\"\u001b[0;36m, line \u001b[0;32m2\u001b[0m\n\u001b[0;31m    su hadoop\u001b[0m\n\u001b[0m            ^\u001b[0m\n\u001b[0;31mSyntaxError\u001b[0m\u001b[0;31m:\u001b[0m invalid syntax\n"
     ]
    }
   ],
   "source": [
    "#切换到hadoop环境\n",
    "su hadoop\n",
    "\n",
    "hdfs \n",
    "\n",
    "!hadoop jar ~/hadoop-streaming-2.7.4.jar \\\n",
    "             -mapper /user/hadoop/quant/001MapperReducerHowTo/tmp/mapper.py \\\n",
    "             -reducer /user/hadoop/quant/001MapperReducerHowTo/tmp/reducer.py \\\n",
    "             -input /user/ohs/stockdata/data/daily/cn/xshe/*  \\\n",
    "             -output /user/hadoop/quant/001MapperReducerHowTo/tmp/stock-output"
   ]
  },
  {
   "cell_type": "code",
   "execution_count": 5,
   "metadata": {},
   "outputs": [
    {
     "ename": "SyntaxError",
     "evalue": "invalid syntax (<ipython-input-5-080dcd44a82e>, line 1)",
     "output_type": "error",
     "traceback": [
      "\u001b[0;36m  File \u001b[0;32m\"<ipython-input-5-080dcd44a82e>\"\u001b[0;36m, line \u001b[0;32m1\u001b[0m\n\u001b[0;31m    hadoop jar ~/hadoop-streaming-2.7.4.jar              -mapper mapper.py              -reducer reducer.py              -input /user/ohs/stockdata/data/daily/cn/xshe/*               -output /user/hadoop/quant/001MapperReducerHowTo/tmp/stock-output\u001b[0m\n\u001b[0m             ^\u001b[0m\n\u001b[0;31mSyntaxError\u001b[0m\u001b[0;31m:\u001b[0m invalid syntax\n"
     ]
    }
   ],
   "source": [
    "hadoop jar ~/hadoop-streaming-2.7.4.jar \\\n",
    "             -mapper mapper.py \\\n",
    "             -reducer reducer.py \\\n",
    "             -input /user/ohs/stockdata/data/daily/cn/xshe/*  \\\n",
    "             -output /user/hadoop/quant/001MapperReducerHowTo/tmp/stock-output"
   ]
  },
  {
   "cell_type": "code",
   "execution_count": null,
   "metadata": {},
   "outputs": [],
   "source": []
  }
 ],
 "metadata": {
  "kernelspec": {
   "display_name": "Python 2",
   "language": "python",
   "name": "python2"
  },
  "language_info": {
   "codemirror_mode": {
    "name": "ipython",
    "version": 2
   },
   "file_extension": ".py",
   "mimetype": "text/x-python",
   "name": "python",
   "nbconvert_exporter": "python",
   "pygments_lexer": "ipython2",
   "version": "2.7.5"
  }
 },
 "nbformat": 4,
 "nbformat_minor": 2
}
