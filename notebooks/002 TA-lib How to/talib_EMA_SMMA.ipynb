{
 "cells": [
  {
   "cell_type": "markdown",
   "metadata": {},
   "source": [
    "# 一、简介"
   ]
  },
  {
   "cell_type": "markdown",
   "metadata": {},
   "source": [
    "在股票行情分析中，我们经常使用 EMA、SMMA 等指标，这也是社区中经常被提及的一点，  \n",
    "于是这里我们单开一个帖子来讲解 EMA 和 SMMA 的实现。  \n",
    "\n",
    "EMA 是指数平均数指标，英文 Exponential Moving Average；  \n",
    "而这里的 SMMA 指平滑移动平均线（而不是简单移动平均线 SMA 或 MA），英文 Smoothed Moving Average。"
   ]
  },
  {
   "cell_type": "markdown",
   "metadata": {},
   "source": [
    "# 二、算法\n",
    "\n",
    "这边其实不用很关注，不感兴趣的略过即可。"
   ]
  },
  {
   "cell_type": "markdown",
   "metadata": {},
   "source": [
    "## 先看 EMA 是如何计算的：\n",
    "\n",
    "    EMA = (CLOSE(i) * P) + (EMA(i - 1) * (100 - P))\n",
    "\n",
    "    Where:\n",
    "    CLOSE(i) – the price of the current period closure;\n",
    "    EMA(i-1) – Exponentially Moving Average of the previous period closure;\n",
    "    P – the percentage of using the price value."
   ]
  },
  {
   "cell_type": "markdown",
   "metadata": {},
   "source": [
    "## 再来看一下 SMMA 是如何计算的：\n",
    "\n",
    "    The first value of this smoothed moving average is calculated as the simple moving average (SMA):\n",
    "    SUM1 = SUM(CLOSE, N)\n",
    "    SMMA1 = SUM1/N\n",
    "    \n",
    "    The second and succeeding moving averages are calculated according to this formula:\n",
    "    PREVSUM = SMMA(i - 1) * N\n",
    "    SMMA(i) = (PREVSUM - SMMA(i - 1) + CLOSE(i)) / N\n",
    "    \n",
    "    Where:\n",
    "    SUM1 – is the total sum of closing prices for N periods;\n",
    "    PREVSUM – smoothed sum of previous bar;\n",
    "    SMMA1 – is the smoothed moving average of the first bar;\n",
    "    SMMA(i) – is the smoothed moving average of the current bar (except for the first one);\n",
    "    CLOSE(i) – is the current closing price;\n",
    "    N – is the smoothing period.\n",
    "    \n",
    "    The formula can be simplified as a result of arithmetic manipulations:\n",
    "    SMMA (i) = (SMMA(i - 1) * (N - 1) + CLOSE (i)) / N"
   ]
  },
  {
   "cell_type": "markdown",
   "metadata": {},
   "source": [
    "# 三、用 talib 实现"
   ]
  },
  {
   "cell_type": "markdown",
   "metadata": {},
   "source": [
    "Python 中做各种平均计算时，我们经常引用 talib。  \n",
    "talib 支持的平均种类如下：\n",
    "\n",
    "    MA_Type: 0=SMA, 1=EMA, 2=WMA, 3=DEMA, 4=TEMA, 5=TRIMA, 6=KAMA, 7=MAMA, 8=T3 (Default=SMA)\n",
    "    \n",
    "许多人误以为 talib 中的 SMA 跟上面提及的 SMMA 是等同的，其实不然。  \n",
    "其实 talib 中的 SMA 是 Simple Moving Average，等同于平时在股票行情软件的经常看到的 MA，也就是用 Python 的 mean() 可以直接计算得到的。"
   ]
  },
  {
   "cell_type": "markdown",
   "metadata": {},
   "source": [
    "## EMA 的实现"
   ]
  },
  {
   "cell_type": "markdown",
   "metadata": {},
   "source": [
    "### 试试手\n",
    "先构造一组 0-20 的数组："
   ]
  },
  {
   "cell_type": "code",
   "execution_count": 1,
   "metadata": {},
   "outputs": [
    {
     "data": {
      "text/plain": [
       "array([  0.,   1.,   2.,   3.,   4.,   5.,   6.,   7.,   8.,   9.,  10.,\n",
       "        11.,  12.,  13.,  14.,  15.,  16.,  17.,  18.,  19.])"
      ]
     },
     "execution_count": 1,
     "metadata": {},
     "output_type": "execute_result"
    }
   ],
   "source": [
    "import numpy as np\n",
    "x = np.arange(20.)\n",
    "x"
   ]
  },
  {
   "cell_type": "markdown",
   "metadata": {},
   "source": [
    "然后计算 EMA"
   ]
  },
  {
   "cell_type": "code",
   "execution_count": 2,
   "metadata": {},
   "outputs": [
    {
     "data": {
      "text/plain": [
       "array([ nan,  nan,  nan,  nan,   2.,   3.,   4.,   5.,   6.,   7.,   8.,\n",
       "         9.,  10.,  11.,  12.,  13.,  14.,  15.,  16.,  17.])"
      ]
     },
     "execution_count": 2,
     "metadata": {},
     "output_type": "execute_result"
    }
   ],
   "source": [
    "import talib\n",
    "EMA = talib.EMA(x, 5)\n",
    "EMA"
   ]
  },
  {
   "cell_type": "markdown",
   "metadata": {},
   "source": [
    "### 然后我们自己把 EMA 写出来\n",
    "\n",
    "为了和 talib 保持一致，我们改写 \n",
    "\n",
    "    EMA = (CLOSE(i) * P) + (EMA(i - 1) * (100 - P))\n",
    "    \n",
    "令：   \n",
    "\n",
    "    P = 2 ／ (n + 1)\n",
    "    100 - P = (n - 1) / (n + 1)"
   ]
  },
  {
   "cell_type": "code",
   "execution_count": 3,
   "metadata": {},
   "outputs": [],
   "source": [
    "def test_EMA(close, n):\n",
    "    result = np.array([np.nan] * len(close))\n",
    "    result[n - 1] = close[:n].mean()\n",
    "    for i in range(n, len(close)):\n",
    "        result[i] = (2 * close[i] + (n - 1) * result[i - 1]) / (n + 1)\n",
    "    return result"
   ]
  },
  {
   "cell_type": "markdown",
   "metadata": {},
   "source": [
    "拿一组数据来看看和 talib 的 EMA 一样不："
   ]
  },
  {
   "cell_type": "code",
   "execution_count": 4,
   "metadata": {},
   "outputs": [],
   "source": [
    "close = get_price('000001.XSHE', start_date='20170601', end_date='20170701', frequency='1d')['close'].values"
   ]
  },
  {
   "cell_type": "code",
   "execution_count": 5,
   "metadata": {
    "scrolled": true
   },
   "outputs": [
    {
     "data": {
      "text/plain": [
       "array([ 9.0568,  9.0371,  8.8991,  8.909 ,  8.9977,  8.9977,  9.0174,\n",
       "        8.978 ,  8.9878,  8.9484,  8.909 ,  8.8893,  8.9977,  8.9878,\n",
       "        9.0174,  9.1159,  9.1159,  9.1652,  9.2243,  9.2933,  9.2933,\n",
       "        9.2539])"
      ]
     },
     "execution_count": 5,
     "metadata": {},
     "output_type": "execute_result"
    }
   ],
   "source": [
    "close"
   ]
  },
  {
   "cell_type": "code",
   "execution_count": 6,
   "metadata": {},
   "outputs": [
    {
     "data": {
      "text/plain": [
       "array([        nan,         nan,         nan,         nan,         nan,\n",
       "               nan,         nan,         nan,         nan,         nan,\n",
       "               nan,         nan,         nan,         nan,         nan,\n",
       "               nan,         nan,  9.00151111,  9.02496257,  9.05320862,\n",
       "        9.0784814 ,  9.09694651])"
      ]
     },
     "execution_count": 6,
     "metadata": {},
     "output_type": "execute_result"
    }
   ],
   "source": [
    "talib.EMA(close, 18)"
   ]
  },
  {
   "cell_type": "code",
   "execution_count": 7,
   "metadata": {
    "scrolled": true
   },
   "outputs": [
    {
     "data": {
      "text/plain": [
       "array([        nan,         nan,         nan,         nan,         nan,\n",
       "               nan,         nan,         nan,         nan,         nan,\n",
       "               nan,         nan,         nan,         nan,         nan,\n",
       "               nan,         nan,  9.00151111,  9.02496257,  9.05320862,\n",
       "        9.0784814 ,  9.09694651])"
      ]
     },
     "execution_count": 7,
     "metadata": {},
     "output_type": "execute_result"
    }
   ],
   "source": [
    "np.array(test_EMA(close, 18))"
   ]
  },
  {
   "cell_type": "markdown",
   "metadata": {},
   "source": [
    "完全一致，这样 EMA 就实现了。"
   ]
  },
  {
   "cell_type": "markdown",
   "metadata": {},
   "source": [
    "## SMMA 的实现\n",
    "\n",
    "### 根据等式计算 \n",
    "\n",
    "根据实际中 SMMA 的运用，我们有等式： \n",
    "\n",
    "    SMMA(close, n, 2) = EMA(close, n - 1) \n",
    "    \n",
    "这样我们可以很容易地计算出 SMMA 来。"
   ]
  },
  {
   "cell_type": "code",
   "execution_count": 8,
   "metadata": {},
   "outputs": [],
   "source": [
    "def SMMA(close, n, m=2):\n",
    "    result = talib.EMA(close, n - 1)\n",
    "    return result"
   ]
  },
  {
   "cell_type": "code",
   "execution_count": 9,
   "metadata": {},
   "outputs": [
    {
     "data": {
      "text/plain": [
       "array([        nan,         nan,         nan,         nan,         nan,\n",
       "               nan,         nan,         nan,         nan,         nan,\n",
       "               nan,         nan,         nan,         nan,         nan,\n",
       "               nan,         nan,  9.00151111,  9.02496257,  9.05320862,\n",
       "        9.0784814 ,  9.09694651])"
      ]
     },
     "execution_count": 9,
     "metadata": {},
     "output_type": "execute_result"
    }
   ],
   "source": [
    "test_EMA(close, 18)"
   ]
  },
  {
   "cell_type": "code",
   "execution_count": 10,
   "metadata": {},
   "outputs": [
    {
     "data": {
      "text/plain": [
       "array([        nan,         nan,         nan,         nan,         nan,\n",
       "               nan,         nan,         nan,         nan,         nan,\n",
       "               nan,         nan,         nan,         nan,         nan,\n",
       "               nan,         nan,  9.00151111,  9.02496257,  9.05320862,\n",
       "        9.0784814 ,  9.09694651])"
      ]
     },
     "execution_count": 10,
     "metadata": {},
     "output_type": "execute_result"
    }
   ],
   "source": [
    "SMMA(close, 19, m=2)"
   ]
  },
  {
   "cell_type": "markdown",
   "metadata": {},
   "source": [
    "### 根据第二部分的算法，我们也可以徒手写出 SMMA 的函数"
   ]
  },
  {
   "cell_type": "code",
   "execution_count": 11,
   "metadata": {
    "collapsed": true
   },
   "outputs": [],
   "source": [
    "def test_SMMA(close, n, m=2):\n",
    "    result = np.array([np.nan] * len(close))\n",
    "    result[n - 2] = close[:n - 1].mean()\n",
    "    for i in range(n - 1, len(close)):\n",
    "        result[i] = (result[i - 1] * (n - 2) + 2 * close[i]) / n\n",
    "    return result"
   ]
  },
  {
   "cell_type": "code",
   "execution_count": 12,
   "metadata": {},
   "outputs": [
    {
     "data": {
      "text/plain": [
       "array([        nan,         nan,         nan,         nan,         nan,\n",
       "               nan,         nan,         nan,         nan,         nan,\n",
       "               nan,         nan,         nan,         nan,         nan,\n",
       "               nan,         nan,  9.00151111,  9.02496257,  9.05320862,\n",
       "        9.0784814 ,  9.09694651])"
      ]
     },
     "execution_count": 12,
     "metadata": {},
     "output_type": "execute_result"
    }
   ],
   "source": [
    "test_SMMA(close, 19, m=2)"
   ]
  },
  {
   "cell_type": "markdown",
   "metadata": {},
   "source": [
    "# 最后\n",
    "\n",
    "其实很简单，  \n",
    "其实很自然，  \n",
    "多写就会了，，\n",
    "\n",
    "PS： \n",
    "本文算法部分摘自 [Moving Average](https://www.metatrader4.com/en/trading-platform/help/analytics/tech_indicators/moving_average)，关于 Moving Average 的常用算法在这里都可以找到。  \n"
   ]
  }
 ],
 "metadata": {
  "kernelspec": {
   "display_name": "Python 2",
   "language": "python",
   "name": "python2"
  },
  "language_info": {
   "codemirror_mode": {
    "name": "ipython",
    "version": 2
   },
   "file_extension": ".py",
   "mimetype": "text/x-python",
   "name": "python",
   "nbconvert_exporter": "python",
   "pygments_lexer": "ipython2",
   "version": "2.7.5"
  }
 },
 "nbformat": 4,
 "nbformat_minor": 2
}
